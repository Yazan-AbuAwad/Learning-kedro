{
 "cells": [
  {
   "cell_type": "code",
   "execution_count": 1,
   "id": "04fcd09b",
   "metadata": {},
   "outputs": [],
   "source": [
    "import pandas as pd"
   ]
  },
  {
   "cell_type": "code",
   "execution_count": 2,
   "id": "40bc7209",
   "metadata": {},
   "outputs": [],
   "source": [
    "data= pd.read_csv('onehr.data')"
   ]
  },
  {
   "cell_type": "code",
   "execution_count": 3,
   "id": "0697fbab",
   "metadata": {},
   "outputs": [
    {
     "data": {
      "text/html": [
       "<div>\n",
       "<style scoped>\n",
       "    .dataframe tbody tr th:only-of-type {\n",
       "        vertical-align: middle;\n",
       "    }\n",
       "\n",
       "    .dataframe tbody tr th {\n",
       "        vertical-align: top;\n",
       "    }\n",
       "\n",
       "    .dataframe thead th {\n",
       "        text-align: right;\n",
       "    }\n",
       "</style>\n",
       "<table border=\"1\" class=\"dataframe\">\n",
       "  <thead>\n",
       "    <tr style=\"text-align: right;\">\n",
       "      <th></th>\n",
       "      <th>Date</th>\n",
       "      <th>WSR0</th>\n",
       "      <th>WSR1</th>\n",
       "      <th>WSR2</th>\n",
       "      <th>WSR3</th>\n",
       "      <th>WSR4</th>\n",
       "      <th>WSR5</th>\n",
       "      <th>WSR6</th>\n",
       "      <th>WSR7</th>\n",
       "      <th>WSR8</th>\n",
       "      <th>...</th>\n",
       "      <th>RH50</th>\n",
       "      <th>U50</th>\n",
       "      <th>V50</th>\n",
       "      <th>HT50</th>\n",
       "      <th>KI</th>\n",
       "      <th>TT</th>\n",
       "      <th>SLP</th>\n",
       "      <th>SLP_</th>\n",
       "      <th>Precp</th>\n",
       "      <th>class</th>\n",
       "    </tr>\n",
       "  </thead>\n",
       "  <tbody>\n",
       "    <tr>\n",
       "      <th>0</th>\n",
       "      <td>1/1/1998</td>\n",
       "      <td>0.8</td>\n",
       "      <td>1.8</td>\n",
       "      <td>2.4</td>\n",
       "      <td>2.1</td>\n",
       "      <td>2</td>\n",
       "      <td>2.1</td>\n",
       "      <td>1.5</td>\n",
       "      <td>1.7</td>\n",
       "      <td>1.9</td>\n",
       "      <td>...</td>\n",
       "      <td>0.15</td>\n",
       "      <td>10.67</td>\n",
       "      <td>-1.56</td>\n",
       "      <td>5795</td>\n",
       "      <td>-12.1</td>\n",
       "      <td>17.9</td>\n",
       "      <td>10330</td>\n",
       "      <td>-55</td>\n",
       "      <td>0</td>\n",
       "      <td>0.0</td>\n",
       "    </tr>\n",
       "    <tr>\n",
       "      <th>1</th>\n",
       "      <td>1/2/1998</td>\n",
       "      <td>2.8</td>\n",
       "      <td>3.2</td>\n",
       "      <td>3.3</td>\n",
       "      <td>2.7</td>\n",
       "      <td>3.3</td>\n",
       "      <td>3.2</td>\n",
       "      <td>2.9</td>\n",
       "      <td>2.8</td>\n",
       "      <td>3.1</td>\n",
       "      <td>...</td>\n",
       "      <td>0.48</td>\n",
       "      <td>8.39</td>\n",
       "      <td>3.84</td>\n",
       "      <td>5805</td>\n",
       "      <td>14.05</td>\n",
       "      <td>29</td>\n",
       "      <td>10275</td>\n",
       "      <td>-55</td>\n",
       "      <td>0</td>\n",
       "      <td>0.0</td>\n",
       "    </tr>\n",
       "    <tr>\n",
       "      <th>2</th>\n",
       "      <td>1/3/1998</td>\n",
       "      <td>2.9</td>\n",
       "      <td>2.8</td>\n",
       "      <td>2.6</td>\n",
       "      <td>2.1</td>\n",
       "      <td>2.2</td>\n",
       "      <td>2.5</td>\n",
       "      <td>2.5</td>\n",
       "      <td>2.7</td>\n",
       "      <td>2.2</td>\n",
       "      <td>...</td>\n",
       "      <td>0.6</td>\n",
       "      <td>6.94</td>\n",
       "      <td>9.8</td>\n",
       "      <td>5790</td>\n",
       "      <td>17.9</td>\n",
       "      <td>41.3</td>\n",
       "      <td>10235</td>\n",
       "      <td>-40</td>\n",
       "      <td>0</td>\n",
       "      <td>0.0</td>\n",
       "    </tr>\n",
       "    <tr>\n",
       "      <th>3</th>\n",
       "      <td>1/4/1998</td>\n",
       "      <td>4.7</td>\n",
       "      <td>3.8</td>\n",
       "      <td>3.7</td>\n",
       "      <td>3.8</td>\n",
       "      <td>2.9</td>\n",
       "      <td>3.1</td>\n",
       "      <td>2.8</td>\n",
       "      <td>2.5</td>\n",
       "      <td>2.4</td>\n",
       "      <td>...</td>\n",
       "      <td>0.49</td>\n",
       "      <td>8.73</td>\n",
       "      <td>10.54</td>\n",
       "      <td>5775</td>\n",
       "      <td>31.15</td>\n",
       "      <td>51.7</td>\n",
       "      <td>10195</td>\n",
       "      <td>-40</td>\n",
       "      <td>2.08</td>\n",
       "      <td>0.0</td>\n",
       "    </tr>\n",
       "    <tr>\n",
       "      <th>4</th>\n",
       "      <td>1/5/1998</td>\n",
       "      <td>2.6</td>\n",
       "      <td>2.1</td>\n",
       "      <td>1.6</td>\n",
       "      <td>1.4</td>\n",
       "      <td>0.9</td>\n",
       "      <td>1.5</td>\n",
       "      <td>1.2</td>\n",
       "      <td>1.4</td>\n",
       "      <td>1.3</td>\n",
       "      <td>...</td>\n",
       "      <td>?</td>\n",
       "      <td>?</td>\n",
       "      <td>?</td>\n",
       "      <td>?</td>\n",
       "      <td>?</td>\n",
       "      <td>?</td>\n",
       "      <td>?</td>\n",
       "      <td>?</td>\n",
       "      <td>0.58</td>\n",
       "      <td>0.0</td>\n",
       "    </tr>\n",
       "    <tr>\n",
       "      <th>...</th>\n",
       "      <td>...</td>\n",
       "      <td>...</td>\n",
       "      <td>...</td>\n",
       "      <td>...</td>\n",
       "      <td>...</td>\n",
       "      <td>...</td>\n",
       "      <td>...</td>\n",
       "      <td>...</td>\n",
       "      <td>...</td>\n",
       "      <td>...</td>\n",
       "      <td>...</td>\n",
       "      <td>...</td>\n",
       "      <td>...</td>\n",
       "      <td>...</td>\n",
       "      <td>...</td>\n",
       "      <td>...</td>\n",
       "      <td>...</td>\n",
       "      <td>...</td>\n",
       "      <td>...</td>\n",
       "      <td>...</td>\n",
       "      <td>...</td>\n",
       "    </tr>\n",
       "    <tr>\n",
       "      <th>2531</th>\n",
       "      <td>12/27/2004</td>\n",
       "      <td>0.3</td>\n",
       "      <td>0.4</td>\n",
       "      <td>0.5</td>\n",
       "      <td>0.5</td>\n",
       "      <td>0.2</td>\n",
       "      <td>0.3</td>\n",
       "      <td>0.4</td>\n",
       "      <td>0.4</td>\n",
       "      <td>1.3</td>\n",
       "      <td>...</td>\n",
       "      <td>0.07</td>\n",
       "      <td>7.93</td>\n",
       "      <td>-4.41</td>\n",
       "      <td>5800</td>\n",
       "      <td>-25.6</td>\n",
       "      <td>21.8</td>\n",
       "      <td>10295</td>\n",
       "      <td>65</td>\n",
       "      <td>0</td>\n",
       "      <td>0.0</td>\n",
       "    </tr>\n",
       "    <tr>\n",
       "      <th>2532</th>\n",
       "      <td>12/28/2004</td>\n",
       "      <td>1</td>\n",
       "      <td>1.4</td>\n",
       "      <td>1.1</td>\n",
       "      <td>1.7</td>\n",
       "      <td>1.5</td>\n",
       "      <td>1.7</td>\n",
       "      <td>1.8</td>\n",
       "      <td>1.5</td>\n",
       "      <td>2.1</td>\n",
       "      <td>...</td>\n",
       "      <td>0.04</td>\n",
       "      <td>5.95</td>\n",
       "      <td>-1.14</td>\n",
       "      <td>5845</td>\n",
       "      <td>-19.4</td>\n",
       "      <td>19.1</td>\n",
       "      <td>10310</td>\n",
       "      <td>15</td>\n",
       "      <td>0</td>\n",
       "      <td>0.0</td>\n",
       "    </tr>\n",
       "    <tr>\n",
       "      <th>2533</th>\n",
       "      <td>12/29/2004</td>\n",
       "      <td>0.8</td>\n",
       "      <td>0.8</td>\n",
       "      <td>1.2</td>\n",
       "      <td>0.9</td>\n",
       "      <td>0.4</td>\n",
       "      <td>0.6</td>\n",
       "      <td>0.8</td>\n",
       "      <td>1.1</td>\n",
       "      <td>1.5</td>\n",
       "      <td>...</td>\n",
       "      <td>0.06</td>\n",
       "      <td>7.8</td>\n",
       "      <td>-0.64</td>\n",
       "      <td>5845</td>\n",
       "      <td>-9.6</td>\n",
       "      <td>35.2</td>\n",
       "      <td>10275</td>\n",
       "      <td>-35</td>\n",
       "      <td>0</td>\n",
       "      <td>0.0</td>\n",
       "    </tr>\n",
       "    <tr>\n",
       "      <th>2534</th>\n",
       "      <td>12/30/2004</td>\n",
       "      <td>1.3</td>\n",
       "      <td>0.9</td>\n",
       "      <td>1.5</td>\n",
       "      <td>1.2</td>\n",
       "      <td>1.6</td>\n",
       "      <td>1.8</td>\n",
       "      <td>1.1</td>\n",
       "      <td>1</td>\n",
       "      <td>1.9</td>\n",
       "      <td>...</td>\n",
       "      <td>0.25</td>\n",
       "      <td>7.72</td>\n",
       "      <td>-0.89</td>\n",
       "      <td>5845</td>\n",
       "      <td>-19.6</td>\n",
       "      <td>34.2</td>\n",
       "      <td>10245</td>\n",
       "      <td>-30</td>\n",
       "      <td>0.05</td>\n",
       "      <td>0.0</td>\n",
       "    </tr>\n",
       "    <tr>\n",
       "      <th>2535</th>\n",
       "      <td>12/31/2004</td>\n",
       "      <td>1.5</td>\n",
       "      <td>1.3</td>\n",
       "      <td>1.8</td>\n",
       "      <td>1.4</td>\n",
       "      <td>1.2</td>\n",
       "      <td>1.7</td>\n",
       "      <td>1.6</td>\n",
       "      <td>1.4</td>\n",
       "      <td>1.6</td>\n",
       "      <td>...</td>\n",
       "      <td>0.54</td>\n",
       "      <td>13.07</td>\n",
       "      <td>9.15</td>\n",
       "      <td>5820</td>\n",
       "      <td>1.95</td>\n",
       "      <td>39.35</td>\n",
       "      <td>10220</td>\n",
       "      <td>-25</td>\n",
       "      <td>0</td>\n",
       "      <td>0.0</td>\n",
       "    </tr>\n",
       "  </tbody>\n",
       "</table>\n",
       "<p>2536 rows × 74 columns</p>\n",
       "</div>"
      ],
      "text/plain": [
       "            Date WSR0 WSR1 WSR2 WSR3 WSR4 WSR5 WSR6 WSR7 WSR8  ...  RH50  \\\n",
       "0       1/1/1998  0.8  1.8  2.4  2.1    2  2.1  1.5  1.7  1.9  ...  0.15   \n",
       "1       1/2/1998  2.8  3.2  3.3  2.7  3.3  3.2  2.9  2.8  3.1  ...  0.48   \n",
       "2       1/3/1998  2.9  2.8  2.6  2.1  2.2  2.5  2.5  2.7  2.2  ...   0.6   \n",
       "3       1/4/1998  4.7  3.8  3.7  3.8  2.9  3.1  2.8  2.5  2.4  ...  0.49   \n",
       "4       1/5/1998  2.6  2.1  1.6  1.4  0.9  1.5  1.2  1.4  1.3  ...     ?   \n",
       "...          ...  ...  ...  ...  ...  ...  ...  ...  ...  ...  ...   ...   \n",
       "2531  12/27/2004  0.3  0.4  0.5  0.5  0.2  0.3  0.4  0.4  1.3  ...  0.07   \n",
       "2532  12/28/2004    1  1.4  1.1  1.7  1.5  1.7  1.8  1.5  2.1  ...  0.04   \n",
       "2533  12/29/2004  0.8  0.8  1.2  0.9  0.4  0.6  0.8  1.1  1.5  ...  0.06   \n",
       "2534  12/30/2004  1.3  0.9  1.5  1.2  1.6  1.8  1.1    1  1.9  ...  0.25   \n",
       "2535  12/31/2004  1.5  1.3  1.8  1.4  1.2  1.7  1.6  1.4  1.6  ...  0.54   \n",
       "\n",
       "        U50    V50  HT50     KI     TT    SLP SLP_ Precp class  \n",
       "0     10.67  -1.56  5795  -12.1   17.9  10330  -55     0   0.0  \n",
       "1      8.39   3.84  5805  14.05     29  10275  -55     0   0.0  \n",
       "2      6.94    9.8  5790   17.9   41.3  10235  -40     0   0.0  \n",
       "3      8.73  10.54  5775  31.15   51.7  10195  -40  2.08   0.0  \n",
       "4         ?      ?     ?      ?      ?      ?    ?  0.58   0.0  \n",
       "...     ...    ...   ...    ...    ...    ...  ...   ...   ...  \n",
       "2531   7.93  -4.41  5800  -25.6   21.8  10295   65     0   0.0  \n",
       "2532   5.95  -1.14  5845  -19.4   19.1  10310   15     0   0.0  \n",
       "2533    7.8  -0.64  5845   -9.6   35.2  10275  -35     0   0.0  \n",
       "2534   7.72  -0.89  5845  -19.6   34.2  10245  -30  0.05   0.0  \n",
       "2535  13.07   9.15  5820   1.95  39.35  10220  -25     0   0.0  \n",
       "\n",
       "[2536 rows x 74 columns]"
      ]
     },
     "execution_count": 3,
     "metadata": {},
     "output_type": "execute_result"
    }
   ],
   "source": [
    "data"
   ]
  },
  {
   "cell_type": "code",
   "execution_count": 4,
   "id": "abdb62f8",
   "metadata": {},
   "outputs": [],
   "source": [
    "from kedro.pipeline import node\n",
    "\n",
    "def load_data(data):\n",
    "    return data\n",
    "nodes = []\n",
    "\n",
    "nodes.append(node(func=load_data,inputs='ozone',outputs='raw_data'))"
   ]
  },
  {
   "cell_type": "code",
   "execution_count": 5,
   "id": "0a907403",
   "metadata": {},
   "outputs": [],
   "source": [
    "import numpy as np\n",
    "\n",
    "def preprocessing(data):\n",
    "    data = data.replace('?', np.nan)\n",
    "\n",
    "    data['Date'] = pd.to_datetime(data['Date'])\n",
    "    \n",
    "    for column in data.columns[1:-2]:\n",
    "        data[column] = data[column].astype(float)\n",
    "          \n",
    "    data = data.drop_duplicates()\n",
    "    data.reset_index(drop=True, inplace=True)\n",
    "\n",
    "    data.fillna(data.mean(), inplace=True)\n",
    "    \n",
    "    return data\n",
    "\n",
    "nodes.append(\n",
    "    node(func=preprocessing,\n",
    "         inputs=\"raw_data\",\n",
    "         outputs=\"ozone_processed\")\n",
    ")"
   ]
  },
  {
   "cell_type": "code",
   "execution_count": 6,
   "id": "f3e758b4",
   "metadata": {},
   "outputs": [],
   "source": [
    "from kedro.io import DataCatalog\n",
    "from kedro.extras.datasets.pandas import CSVDataSet\n",
    "\n",
    "data_catalog = DataCatalog(\n",
    "    {\n",
    "        \"ozone\": CSVDataSet(filepath=\"onehr.data\",\n",
    "                            load_args=dict(sep=\",\"))\n",
    "    },\n",
    "    {\n",
    "        \"ozone_processed\": CSVDataSet(filepath=\"onehr_processed.data\",\n",
    "                                      save_args=dict(sep=',', index=False))\n",
    "    }\n",
    ")"
   ]
  },
  {
   "cell_type": "code",
   "execution_count": 7,
   "id": "a5517af9",
   "metadata": {},
   "outputs": [],
   "source": [
    "from kedro.pipeline import Pipeline\n",
    "\n",
    "pipeline = Pipeline(nodes)"
   ]
  },
  {
   "cell_type": "code",
   "execution_count": 8,
   "id": "637f4365",
   "metadata": {},
   "outputs": [
    {
     "name": "stderr",
     "output_type": "stream",
     "text": [
      "C:\\Users\\User\\anaconda3\\lib\\site-packages\\flask\\json\\__init__.py:31: DeprecationWarning: Importing 'itsdangerous.json' is deprecated and will be removed in ItsDangerous 2.1. Use Python's 'json' module instead.\n",
      "  _slash_escape = \"\\\\/\" not in _json.dumps(\"/\")\n",
      "C:\\Users\\User\\anaconda3\\lib\\site-packages\\flask\\json\\__init__.py:61: DeprecationWarning: Importing 'itsdangerous.json' is deprecated and will be removed in ItsDangerous 2.1. Use Python's 'json' module instead.\n",
      "  class JSONEncoder(_json.JSONEncoder):\n",
      "C:\\Users\\User\\anaconda3\\lib\\site-packages\\flask\\json\\__init__.py:103: DeprecationWarning: Importing 'itsdangerous.json' is deprecated and will be removed in ItsDangerous 2.1. Use Python's 'json' module instead.\n",
      "  class JSONDecoder(_json.JSONDecoder):\n"
     ]
    },
    {
     "data": {
      "text/html": [
       "<pre style=\"white-space:pre;overflow-x:auto;line-height:normal;font-family:Menlo,'DejaVu Sans Mono',consolas,'Courier New',monospace\"><span style=\"color: #7fbfbf; text-decoration-color: #7fbfbf\">[08/02/22 19:28:08] </span><span style=\"color: #000080; text-decoration-color: #000080\">INFO    </span> Loading data from <span style=\"color: #008000; text-decoration-color: #008000\">'ozone'</span> <span style=\"font-weight: bold\">(</span>CSVDataSet<span style=\"font-weight: bold\">)</span><span style=\"color: #808000; text-decoration-color: #808000\">...</span>                          <a href=\"file://C:\\Users\\User\\anaconda3\\lib\\site-packages\\kedro\\io\\data_catalog.py\" target=\"_blank\"><span style=\"color: #7f7f7f; text-decoration-color: #7f7f7f\">data_catalog.py</span></a><span style=\"color: #7f7f7f; text-decoration-color: #7f7f7f\">:</span><a href=\"file://C:\\Users\\User\\anaconda3\\lib\\site-packages\\kedro\\io\\data_catalog.py#343\" target=\"_blank\"><span style=\"color: #7f7f7f; text-decoration-color: #7f7f7f\">343</span></a>\n",
       "</pre>\n"
      ],
      "text/plain": [
       "\u001b[2;36m[08/02/22 19:28:08]\u001b[0m\u001b[2;36m \u001b[0m\u001b[34mINFO    \u001b[0m Loading data from \u001b[32m'ozone'\u001b[0m \u001b[1m(\u001b[0mCSVDataSet\u001b[1m)\u001b[0m\u001b[33m...\u001b[0m                          \u001b]8;id=957366;file://C:\\Users\\User\\anaconda3\\lib\\site-packages\\kedro\\io\\data_catalog.py\u001b\\\u001b[2mdata_catalog.py\u001b[0m\u001b]8;;\u001b\\\u001b[2m:\u001b[0m\u001b]8;id=348283;file://C:\\Users\\User\\anaconda3\\lib\\site-packages\\kedro\\io\\data_catalog.py#343\u001b\\\u001b[2m343\u001b[0m\u001b]8;;\u001b\\\n"
      ]
     },
     "metadata": {},
     "output_type": "display_data"
    },
    {
     "data": {
      "text/html": [
       "<pre style=\"white-space:pre;overflow-x:auto;line-height:normal;font-family:Menlo,'DejaVu Sans Mono',consolas,'Courier New',monospace\"><span style=\"color: #7fbfbf; text-decoration-color: #7fbfbf\">                    </span><span style=\"color: #000080; text-decoration-color: #000080\">INFO    </span> Running node: <span style=\"color: #800080; text-decoration-color: #800080; font-weight: bold\">load_data</span><span style=\"font-weight: bold\">([</span>ozone<span style=\"font-weight: bold\">])</span> -&gt; <span style=\"font-weight: bold\">[</span>raw_data<span style=\"font-weight: bold\">]</span>                             <a href=\"file://C:\\Users\\User\\anaconda3\\lib\\site-packages\\kedro\\pipeline\\node.py\" target=\"_blank\"><span style=\"color: #7f7f7f; text-decoration-color: #7f7f7f\">node.py</span></a><span style=\"color: #7f7f7f; text-decoration-color: #7f7f7f\">:</span><a href=\"file://C:\\Users\\User\\anaconda3\\lib\\site-packages\\kedro\\pipeline\\node.py#327\" target=\"_blank\"><span style=\"color: #7f7f7f; text-decoration-color: #7f7f7f\">327</span></a>\n",
       "</pre>\n"
      ],
      "text/plain": [
       "\u001b[2;36m                   \u001b[0m\u001b[2;36m \u001b[0m\u001b[34mINFO    \u001b[0m Running node: \u001b[1;35mload_data\u001b[0m\u001b[1m(\u001b[0m\u001b[1m[\u001b[0mozone\u001b[1m]\u001b[0m\u001b[1m)\u001b[0m -> \u001b[1m[\u001b[0mraw_data\u001b[1m]\u001b[0m                             \u001b]8;id=55101;file://C:\\Users\\User\\anaconda3\\lib\\site-packages\\kedro\\pipeline\\node.py\u001b\\\u001b[2mnode.py\u001b[0m\u001b]8;;\u001b\\\u001b[2m:\u001b[0m\u001b]8;id=487774;file://C:\\Users\\User\\anaconda3\\lib\\site-packages\\kedro\\pipeline\\node.py#327\u001b\\\u001b[2m327\u001b[0m\u001b]8;;\u001b\\\n"
      ]
     },
     "metadata": {},
     "output_type": "display_data"
    },
    {
     "data": {
      "text/html": [
       "<pre style=\"white-space:pre;overflow-x:auto;line-height:normal;font-family:Menlo,'DejaVu Sans Mono',consolas,'Courier New',monospace\"><span style=\"color: #7fbfbf; text-decoration-color: #7fbfbf\">                    </span><span style=\"color: #000080; text-decoration-color: #000080\">INFO    </span> Saving data to <span style=\"color: #008000; text-decoration-color: #008000\">'raw_data'</span> <span style=\"font-weight: bold\">(</span>MemoryDataSet<span style=\"font-weight: bold\">)</span><span style=\"color: #808000; text-decoration-color: #808000\">...</span>                       <a href=\"file://C:\\Users\\User\\anaconda3\\lib\\site-packages\\kedro\\io\\data_catalog.py\" target=\"_blank\"><span style=\"color: #7f7f7f; text-decoration-color: #7f7f7f\">data_catalog.py</span></a><span style=\"color: #7f7f7f; text-decoration-color: #7f7f7f\">:</span><a href=\"file://C:\\Users\\User\\anaconda3\\lib\\site-packages\\kedro\\io\\data_catalog.py#382\" target=\"_blank\"><span style=\"color: #7f7f7f; text-decoration-color: #7f7f7f\">382</span></a>\n",
       "</pre>\n"
      ],
      "text/plain": [
       "\u001b[2;36m                   \u001b[0m\u001b[2;36m \u001b[0m\u001b[34mINFO    \u001b[0m Saving data to \u001b[32m'raw_data'\u001b[0m \u001b[1m(\u001b[0mMemoryDataSet\u001b[1m)\u001b[0m\u001b[33m...\u001b[0m                       \u001b]8;id=942520;file://C:\\Users\\User\\anaconda3\\lib\\site-packages\\kedro\\io\\data_catalog.py\u001b\\\u001b[2mdata_catalog.py\u001b[0m\u001b]8;;\u001b\\\u001b[2m:\u001b[0m\u001b]8;id=12899;file://C:\\Users\\User\\anaconda3\\lib\\site-packages\\kedro\\io\\data_catalog.py#382\u001b\\\u001b[2m382\u001b[0m\u001b]8;;\u001b\\\n"
      ]
     },
     "metadata": {},
     "output_type": "display_data"
    },
    {
     "data": {
      "text/html": [
       "<pre style=\"white-space:pre;overflow-x:auto;line-height:normal;font-family:Menlo,'DejaVu Sans Mono',consolas,'Courier New',monospace\"><span style=\"color: #7fbfbf; text-decoration-color: #7fbfbf\">                    </span><span style=\"color: #000080; text-decoration-color: #000080\">INFO    </span> Completed <span style=\"color: #008080; text-decoration-color: #008080; font-weight: bold\">1</span> out of <span style=\"color: #008080; text-decoration-color: #008080; font-weight: bold\">2</span> tasks                                     <a href=\"file://C:\\Users\\User\\anaconda3\\lib\\site-packages\\kedro\\runner\\sequential_runner.py\" target=\"_blank\"><span style=\"color: #7f7f7f; text-decoration-color: #7f7f7f\">sequential_runner.py</span></a><span style=\"color: #7f7f7f; text-decoration-color: #7f7f7f\">:</span><a href=\"file://C:\\Users\\User\\anaconda3\\lib\\site-packages\\kedro\\runner\\sequential_runner.py#85\" target=\"_blank\"><span style=\"color: #7f7f7f; text-decoration-color: #7f7f7f\">85</span></a>\n",
       "</pre>\n"
      ],
      "text/plain": [
       "\u001b[2;36m                   \u001b[0m\u001b[2;36m \u001b[0m\u001b[34mINFO    \u001b[0m Completed \u001b[1;36m1\u001b[0m out of \u001b[1;36m2\u001b[0m tasks                                     \u001b]8;id=303882;file://C:\\Users\\User\\anaconda3\\lib\\site-packages\\kedro\\runner\\sequential_runner.py\u001b\\\u001b[2msequential_runner.py\u001b[0m\u001b]8;;\u001b\\\u001b[2m:\u001b[0m\u001b]8;id=261123;file://C:\\Users\\User\\anaconda3\\lib\\site-packages\\kedro\\runner\\sequential_runner.py#85\u001b\\\u001b[2m85\u001b[0m\u001b]8;;\u001b\\\n"
      ]
     },
     "metadata": {},
     "output_type": "display_data"
    },
    {
     "data": {
      "text/html": [
       "<pre style=\"white-space:pre;overflow-x:auto;line-height:normal;font-family:Menlo,'DejaVu Sans Mono',consolas,'Courier New',monospace\"><span style=\"color: #7fbfbf; text-decoration-color: #7fbfbf\">                    </span><span style=\"color: #000080; text-decoration-color: #000080\">INFO    </span> Loading data from <span style=\"color: #008000; text-decoration-color: #008000\">'raw_data'</span> <span style=\"font-weight: bold\">(</span>MemoryDataSet<span style=\"font-weight: bold\">)</span><span style=\"color: #808000; text-decoration-color: #808000\">...</span>                    <a href=\"file://C:\\Users\\User\\anaconda3\\lib\\site-packages\\kedro\\io\\data_catalog.py\" target=\"_blank\"><span style=\"color: #7f7f7f; text-decoration-color: #7f7f7f\">data_catalog.py</span></a><span style=\"color: #7f7f7f; text-decoration-color: #7f7f7f\">:</span><a href=\"file://C:\\Users\\User\\anaconda3\\lib\\site-packages\\kedro\\io\\data_catalog.py#343\" target=\"_blank\"><span style=\"color: #7f7f7f; text-decoration-color: #7f7f7f\">343</span></a>\n",
       "</pre>\n"
      ],
      "text/plain": [
       "\u001b[2;36m                   \u001b[0m\u001b[2;36m \u001b[0m\u001b[34mINFO    \u001b[0m Loading data from \u001b[32m'raw_data'\u001b[0m \u001b[1m(\u001b[0mMemoryDataSet\u001b[1m)\u001b[0m\u001b[33m...\u001b[0m                    \u001b]8;id=674127;file://C:\\Users\\User\\anaconda3\\lib\\site-packages\\kedro\\io\\data_catalog.py\u001b\\\u001b[2mdata_catalog.py\u001b[0m\u001b]8;;\u001b\\\u001b[2m:\u001b[0m\u001b]8;id=314056;file://C:\\Users\\User\\anaconda3\\lib\\site-packages\\kedro\\io\\data_catalog.py#343\u001b\\\u001b[2m343\u001b[0m\u001b]8;;\u001b\\\n"
      ]
     },
     "metadata": {},
     "output_type": "display_data"
    },
    {
     "data": {
      "text/html": [
       "<pre style=\"white-space:pre;overflow-x:auto;line-height:normal;font-family:Menlo,'DejaVu Sans Mono',consolas,'Courier New',monospace\"><span style=\"color: #7fbfbf; text-decoration-color: #7fbfbf\">                    </span><span style=\"color: #000080; text-decoration-color: #000080\">INFO    </span> Running node: <span style=\"color: #800080; text-decoration-color: #800080; font-weight: bold\">preprocessing</span><span style=\"font-weight: bold\">([</span>raw_data<span style=\"font-weight: bold\">])</span> -&gt; <span style=\"font-weight: bold\">[</span>ozone_processed<span style=\"font-weight: bold\">]</span>               <a href=\"file://C:\\Users\\User\\anaconda3\\lib\\site-packages\\kedro\\pipeline\\node.py\" target=\"_blank\"><span style=\"color: #7f7f7f; text-decoration-color: #7f7f7f\">node.py</span></a><span style=\"color: #7f7f7f; text-decoration-color: #7f7f7f\">:</span><a href=\"file://C:\\Users\\User\\anaconda3\\lib\\site-packages\\kedro\\pipeline\\node.py#327\" target=\"_blank\"><span style=\"color: #7f7f7f; text-decoration-color: #7f7f7f\">327</span></a>\n",
       "</pre>\n"
      ],
      "text/plain": [
       "\u001b[2;36m                   \u001b[0m\u001b[2;36m \u001b[0m\u001b[34mINFO    \u001b[0m Running node: \u001b[1;35mpreprocessing\u001b[0m\u001b[1m(\u001b[0m\u001b[1m[\u001b[0mraw_data\u001b[1m]\u001b[0m\u001b[1m)\u001b[0m -> \u001b[1m[\u001b[0mozone_processed\u001b[1m]\u001b[0m               \u001b]8;id=506524;file://C:\\Users\\User\\anaconda3\\lib\\site-packages\\kedro\\pipeline\\node.py\u001b\\\u001b[2mnode.py\u001b[0m\u001b]8;;\u001b\\\u001b[2m:\u001b[0m\u001b]8;id=424162;file://C:\\Users\\User\\anaconda3\\lib\\site-packages\\kedro\\pipeline\\node.py#327\u001b\\\u001b[2m327\u001b[0m\u001b]8;;\u001b\\\n"
      ]
     },
     "metadata": {},
     "output_type": "display_data"
    },
    {
     "data": {
      "text/html": [
       "<pre style=\"white-space:pre;overflow-x:auto;line-height:normal;font-family:Menlo,'DejaVu Sans Mono',consolas,'Courier New',monospace\"><span style=\"color: #7fbfbf; text-decoration-color: #7fbfbf\">                    </span><span style=\"color: #800000; text-decoration-color: #800000\">WARNING </span> C:\\Users\\User\\AppData\\Local\\Temp/ipykernel_82832/<span style=\"color: #008080; text-decoration-color: #008080; font-weight: bold\">1957090456.</span>py:<span style=\"color: #008080; text-decoration-color: #008080; font-weight: bold\">14</span>:     <a href=\"file://C:\\Users\\User\\anaconda3\\lib\\warnings.py\" target=\"_blank\"><span style=\"color: #7f7f7f; text-decoration-color: #7f7f7f\">warnings.py</span></a><span style=\"color: #7f7f7f; text-decoration-color: #7f7f7f\">:</span><a href=\"file://C:\\Users\\User\\anaconda3\\lib\\warnings.py#109\" target=\"_blank\"><span style=\"color: #7f7f7f; text-decoration-color: #7f7f7f\">109</span></a>\n",
       "<span style=\"color: #7fbfbf; text-decoration-color: #7fbfbf\">                    </span>         FutureWarning: DataFrame.mean and DataFrame.median with                <span style=\"color: #7f7f7f; text-decoration-color: #7f7f7f\">               </span>\n",
       "<span style=\"color: #7fbfbf; text-decoration-color: #7fbfbf\">                    </span>         <span style=\"color: #808000; text-decoration-color: #808000\">numeric_only</span>=<span style=\"color: #800080; text-decoration-color: #800080; font-style: italic\">None</span> will include datetime64 and datetime64tz columns in  <span style=\"color: #7f7f7f; text-decoration-color: #7f7f7f\">               </span>\n",
       "<span style=\"color: #7fbfbf; text-decoration-color: #7fbfbf\">                    </span>         a future version.                                                      <span style=\"color: #7f7f7f; text-decoration-color: #7f7f7f\">               </span>\n",
       "<span style=\"color: #7fbfbf; text-decoration-color: #7fbfbf\">                    </span>           <span style=\"color: #800080; text-decoration-color: #800080; font-weight: bold\">data.fillna</span><span style=\"font-weight: bold\">(</span><span style=\"color: #800080; text-decoration-color: #800080; font-weight: bold\">data.mean</span><span style=\"font-weight: bold\">()</span>, <span style=\"color: #808000; text-decoration-color: #808000\">inplace</span>=<span style=\"color: #00ff00; text-decoration-color: #00ff00; font-style: italic\">True</span><span style=\"font-weight: bold\">)</span>                               <span style=\"color: #7f7f7f; text-decoration-color: #7f7f7f\">               </span>\n",
       "<span style=\"color: #7fbfbf; text-decoration-color: #7fbfbf\">                    </span>                                                                                <span style=\"color: #7f7f7f; text-decoration-color: #7f7f7f\">               </span>\n",
       "</pre>\n"
      ],
      "text/plain": [
       "\u001b[2;36m                   \u001b[0m\u001b[2;36m \u001b[0m\u001b[31mWARNING \u001b[0m C:\\Users\\User\\AppData\\Local\\Temp/ipykernel_82832/\u001b[1;36m1957090456.\u001b[0mpy:\u001b[1;36m14\u001b[0m:     \u001b]8;id=888248;file://C:\\Users\\User\\anaconda3\\lib\\warnings.py\u001b\\\u001b[2mwarnings.py\u001b[0m\u001b]8;;\u001b\\\u001b[2m:\u001b[0m\u001b]8;id=805926;file://C:\\Users\\User\\anaconda3\\lib\\warnings.py#109\u001b\\\u001b[2m109\u001b[0m\u001b]8;;\u001b\\\n",
       "\u001b[2;36m                    \u001b[0m         FutureWarning: DataFrame.mean and DataFrame.median with                \u001b[2m               \u001b[0m\n",
       "\u001b[2;36m                    \u001b[0m         \u001b[33mnumeric_only\u001b[0m=\u001b[3;35mNone\u001b[0m will include datetime64 and datetime64tz columns in  \u001b[2m               \u001b[0m\n",
       "\u001b[2;36m                    \u001b[0m         a future version.                                                      \u001b[2m               \u001b[0m\n",
       "\u001b[2;36m                    \u001b[0m           \u001b[1;35mdata.fillna\u001b[0m\u001b[1m(\u001b[0m\u001b[1;35mdata.mean\u001b[0m\u001b[1m(\u001b[0m\u001b[1m)\u001b[0m, \u001b[33minplace\u001b[0m=\u001b[3;92mTrue\u001b[0m\u001b[1m)\u001b[0m                               \u001b[2m               \u001b[0m\n",
       "\u001b[2;36m                    \u001b[0m                                                                                \u001b[2m               \u001b[0m\n"
      ]
     },
     "metadata": {},
     "output_type": "display_data"
    },
    {
     "data": {
      "text/html": [
       "<pre style=\"white-space:pre;overflow-x:auto;line-height:normal;font-family:Menlo,'DejaVu Sans Mono',consolas,'Courier New',monospace\"><span style=\"color: #7fbfbf; text-decoration-color: #7fbfbf\">                    </span><span style=\"color: #800000; text-decoration-color: #800000\">WARNING </span> C:\\Users\\User\\AppData\\Local\\Temp/ipykernel_82832/<span style=\"color: #008080; text-decoration-color: #008080; font-weight: bold\">1957090456.</span>py:<span style=\"color: #008080; text-decoration-color: #008080; font-weight: bold\">14</span>:     <a href=\"file://C:\\Users\\User\\anaconda3\\lib\\warnings.py\" target=\"_blank\"><span style=\"color: #7f7f7f; text-decoration-color: #7f7f7f\">warnings.py</span></a><span style=\"color: #7f7f7f; text-decoration-color: #7f7f7f\">:</span><a href=\"file://C:\\Users\\User\\anaconda3\\lib\\warnings.py#109\" target=\"_blank\"><span style=\"color: #7f7f7f; text-decoration-color: #7f7f7f\">109</span></a>\n",
       "<span style=\"color: #7fbfbf; text-decoration-color: #7fbfbf\">                    </span>         FutureWarning: Dropping of nuisance columns in DataFrame reductions    <span style=\"color: #7f7f7f; text-decoration-color: #7f7f7f\">               </span>\n",
       "<span style=\"color: #7fbfbf; text-decoration-color: #7fbfbf\">                    </span>         <span style=\"font-weight: bold\">(</span>with <span style=\"color: #008000; text-decoration-color: #008000\">'numeric_only=None'</span><span style=\"font-weight: bold\">)</span> is deprecated; in a future version this     <span style=\"color: #7f7f7f; text-decoration-color: #7f7f7f\">               </span>\n",
       "<span style=\"color: #7fbfbf; text-decoration-color: #7fbfbf\">                    </span>         will raise TypeError.  Select only valid columns before calling the    <span style=\"color: #7f7f7f; text-decoration-color: #7f7f7f\">               </span>\n",
       "<span style=\"color: #7fbfbf; text-decoration-color: #7fbfbf\">                    </span>         reduction.                                                             <span style=\"color: #7f7f7f; text-decoration-color: #7f7f7f\">               </span>\n",
       "<span style=\"color: #7fbfbf; text-decoration-color: #7fbfbf\">                    </span>           <span style=\"color: #800080; text-decoration-color: #800080; font-weight: bold\">data.fillna</span><span style=\"font-weight: bold\">(</span><span style=\"color: #800080; text-decoration-color: #800080; font-weight: bold\">data.mean</span><span style=\"font-weight: bold\">()</span>, <span style=\"color: #808000; text-decoration-color: #808000\">inplace</span>=<span style=\"color: #00ff00; text-decoration-color: #00ff00; font-style: italic\">True</span><span style=\"font-weight: bold\">)</span>                               <span style=\"color: #7f7f7f; text-decoration-color: #7f7f7f\">               </span>\n",
       "<span style=\"color: #7fbfbf; text-decoration-color: #7fbfbf\">                    </span>                                                                                <span style=\"color: #7f7f7f; text-decoration-color: #7f7f7f\">               </span>\n",
       "</pre>\n"
      ],
      "text/plain": [
       "\u001b[2;36m                   \u001b[0m\u001b[2;36m \u001b[0m\u001b[31mWARNING \u001b[0m C:\\Users\\User\\AppData\\Local\\Temp/ipykernel_82832/\u001b[1;36m1957090456.\u001b[0mpy:\u001b[1;36m14\u001b[0m:     \u001b]8;id=657674;file://C:\\Users\\User\\anaconda3\\lib\\warnings.py\u001b\\\u001b[2mwarnings.py\u001b[0m\u001b]8;;\u001b\\\u001b[2m:\u001b[0m\u001b]8;id=831943;file://C:\\Users\\User\\anaconda3\\lib\\warnings.py#109\u001b\\\u001b[2m109\u001b[0m\u001b]8;;\u001b\\\n",
       "\u001b[2;36m                    \u001b[0m         FutureWarning: Dropping of nuisance columns in DataFrame reductions    \u001b[2m               \u001b[0m\n",
       "\u001b[2;36m                    \u001b[0m         \u001b[1m(\u001b[0mwith \u001b[32m'\u001b[0m\u001b[32mnumeric_only\u001b[0m\u001b[32m=\u001b[0m\u001b[32mNone\u001b[0m\u001b[32m'\u001b[0m\u001b[1m)\u001b[0m is deprecated; in a future version this     \u001b[2m               \u001b[0m\n",
       "\u001b[2;36m                    \u001b[0m         will raise TypeError.  Select only valid columns before calling the    \u001b[2m               \u001b[0m\n",
       "\u001b[2;36m                    \u001b[0m         reduction.                                                             \u001b[2m               \u001b[0m\n",
       "\u001b[2;36m                    \u001b[0m           \u001b[1;35mdata.fillna\u001b[0m\u001b[1m(\u001b[0m\u001b[1;35mdata.mean\u001b[0m\u001b[1m(\u001b[0m\u001b[1m)\u001b[0m, \u001b[33minplace\u001b[0m=\u001b[3;92mTrue\u001b[0m\u001b[1m)\u001b[0m                               \u001b[2m               \u001b[0m\n",
       "\u001b[2;36m                    \u001b[0m                                                                                \u001b[2m               \u001b[0m\n"
      ]
     },
     "metadata": {},
     "output_type": "display_data"
    },
    {
     "data": {
      "text/html": [
       "<pre style=\"white-space:pre;overflow-x:auto;line-height:normal;font-family:Menlo,'DejaVu Sans Mono',consolas,'Courier New',monospace\"><span style=\"color: #7fbfbf; text-decoration-color: #7fbfbf\">                    </span><span style=\"color: #000080; text-decoration-color: #000080\">INFO    </span> Saving data to <span style=\"color: #008000; text-decoration-color: #008000\">'ozone_processed'</span> <span style=\"font-weight: bold\">(</span>CSVDataSet<span style=\"font-weight: bold\">)</span><span style=\"color: #808000; text-decoration-color: #808000\">...</span>                   <a href=\"file://C:\\Users\\User\\anaconda3\\lib\\site-packages\\kedro\\io\\data_catalog.py\" target=\"_blank\"><span style=\"color: #7f7f7f; text-decoration-color: #7f7f7f\">data_catalog.py</span></a><span style=\"color: #7f7f7f; text-decoration-color: #7f7f7f\">:</span><a href=\"file://C:\\Users\\User\\anaconda3\\lib\\site-packages\\kedro\\io\\data_catalog.py#382\" target=\"_blank\"><span style=\"color: #7f7f7f; text-decoration-color: #7f7f7f\">382</span></a>\n",
       "</pre>\n"
      ],
      "text/plain": [
       "\u001b[2;36m                   \u001b[0m\u001b[2;36m \u001b[0m\u001b[34mINFO    \u001b[0m Saving data to \u001b[32m'ozone_processed'\u001b[0m \u001b[1m(\u001b[0mCSVDataSet\u001b[1m)\u001b[0m\u001b[33m...\u001b[0m                   \u001b]8;id=982273;file://C:\\Users\\User\\anaconda3\\lib\\site-packages\\kedro\\io\\data_catalog.py\u001b\\\u001b[2mdata_catalog.py\u001b[0m\u001b]8;;\u001b\\\u001b[2m:\u001b[0m\u001b]8;id=497260;file://C:\\Users\\User\\anaconda3\\lib\\site-packages\\kedro\\io\\data_catalog.py#382\u001b\\\u001b[2m382\u001b[0m\u001b]8;;\u001b\\\n"
      ]
     },
     "metadata": {},
     "output_type": "display_data"
    },
    {
     "data": {
      "text/html": [
       "<pre style=\"white-space:pre;overflow-x:auto;line-height:normal;font-family:Menlo,'DejaVu Sans Mono',consolas,'Courier New',monospace\"><span style=\"color: #7fbfbf; text-decoration-color: #7fbfbf\">                    </span><span style=\"color: #000080; text-decoration-color: #000080\">INFO    </span> Completed <span style=\"color: #008080; text-decoration-color: #008080; font-weight: bold\">2</span> out of <span style=\"color: #008080; text-decoration-color: #008080; font-weight: bold\">2</span> tasks                                     <a href=\"file://C:\\Users\\User\\anaconda3\\lib\\site-packages\\kedro\\runner\\sequential_runner.py\" target=\"_blank\"><span style=\"color: #7f7f7f; text-decoration-color: #7f7f7f\">sequential_runner.py</span></a><span style=\"color: #7f7f7f; text-decoration-color: #7f7f7f\">:</span><a href=\"file://C:\\Users\\User\\anaconda3\\lib\\site-packages\\kedro\\runner\\sequential_runner.py#85\" target=\"_blank\"><span style=\"color: #7f7f7f; text-decoration-color: #7f7f7f\">85</span></a>\n",
       "</pre>\n"
      ],
      "text/plain": [
       "\u001b[2;36m                   \u001b[0m\u001b[2;36m \u001b[0m\u001b[34mINFO    \u001b[0m Completed \u001b[1;36m2\u001b[0m out of \u001b[1;36m2\u001b[0m tasks                                     \u001b]8;id=865335;file://C:\\Users\\User\\anaconda3\\lib\\site-packages\\kedro\\runner\\sequential_runner.py\u001b\\\u001b[2msequential_runner.py\u001b[0m\u001b]8;;\u001b\\\u001b[2m:\u001b[0m\u001b]8;id=582542;file://C:\\Users\\User\\anaconda3\\lib\\site-packages\\kedro\\runner\\sequential_runner.py#85\u001b\\\u001b[2m85\u001b[0m\u001b]8;;\u001b\\\n"
      ]
     },
     "metadata": {},
     "output_type": "display_data"
    },
    {
     "data": {
      "text/html": [
       "<pre style=\"white-space:pre;overflow-x:auto;line-height:normal;font-family:Menlo,'DejaVu Sans Mono',consolas,'Courier New',monospace\"><span style=\"color: #7fbfbf; text-decoration-color: #7fbfbf\">                    </span><span style=\"color: #000080; text-decoration-color: #000080\">INFO    </span> Pipeline execution completed successfully.                                <a href=\"file://C:\\Users\\User\\anaconda3\\lib\\site-packages\\kedro\\runner\\runner.py\" target=\"_blank\"><span style=\"color: #7f7f7f; text-decoration-color: #7f7f7f\">runner.py</span></a><span style=\"color: #7f7f7f; text-decoration-color: #7f7f7f\">:</span><a href=\"file://C:\\Users\\User\\anaconda3\\lib\\site-packages\\kedro\\runner\\runner.py#89\" target=\"_blank\"><span style=\"color: #7f7f7f; text-decoration-color: #7f7f7f\">89</span></a>\n",
       "</pre>\n"
      ],
      "text/plain": [
       "\u001b[2;36m                   \u001b[0m\u001b[2;36m \u001b[0m\u001b[34mINFO    \u001b[0m Pipeline execution completed successfully.                                \u001b]8;id=965224;file://C:\\Users\\User\\anaconda3\\lib\\site-packages\\kedro\\runner\\runner.py\u001b\\\u001b[2mrunner.py\u001b[0m\u001b]8;;\u001b\\\u001b[2m:\u001b[0m\u001b]8;id=732123;file://C:\\Users\\User\\anaconda3\\lib\\site-packages\\kedro\\runner\\runner.py#89\u001b\\\u001b[2m89\u001b[0m\u001b]8;;\u001b\\\n"
      ]
     },
     "metadata": {},
     "output_type": "display_data"
    },
    {
     "data": {
      "text/html": [
       "<pre style=\"white-space:pre;overflow-x:auto;line-height:normal;font-family:Menlo,'DejaVu Sans Mono',consolas,'Courier New',monospace\"><span style=\"font-weight: bold\">{}</span>\n",
       "</pre>\n"
      ],
      "text/plain": [
       "\u001b[1m{\u001b[0m\u001b[1m}\u001b[0m\n"
      ]
     },
     "metadata": {},
     "output_type": "display_data"
    }
   ],
   "source": [
    "from kedro.runner import SequentialRunner\n",
    "\n",
    "runner = SequentialRunner()\n",
    "runner.run(pipeline,data_catalog)"
   ]
  },
  {
   "cell_type": "code",
   "execution_count": 13,
   "id": "25f69ee1",
   "metadata": {},
   "outputs": [],
   "source": [
    "data = pd.read_csv('onehr_processed.data',parse_dates=['Date'])"
   ]
  },
  {
   "cell_type": "code",
   "execution_count": 15,
   "id": "9cfae8d6",
   "metadata": {},
   "outputs": [
    {
     "data": {
      "text/html": [
       "<pre style=\"white-space:pre;overflow-x:auto;line-height:normal;font-family:Menlo,'DejaVu Sans Mono',consolas,'Courier New',monospace\"><span style=\"color: #7fbfbf; text-decoration-color: #7fbfbf\">[08/02/22 19:30:17] </span><span style=\"color: #800000; text-decoration-color: #800000\">WARNING </span> C:\\Users\\User\\anaconda3\\lib\\site-packages\\panel\\pane\\base.py:<span style=\"color: #008080; text-decoration-color: #008080; font-weight: bold\">38</span>:       <a href=\"file://C:\\Users\\User\\anaconda3\\lib\\warnings.py\" target=\"_blank\"><span style=\"color: #7f7f7f; text-decoration-color: #7f7f7f\">warnings.py</span></a><span style=\"color: #7f7f7f; text-decoration-color: #7f7f7f\">:</span><a href=\"file://C:\\Users\\User\\anaconda3\\lib\\warnings.py#109\" target=\"_blank\"><span style=\"color: #7f7f7f; text-decoration-color: #7f7f7f\">109</span></a>\n",
       "<span style=\"color: #7fbfbf; text-decoration-color: #7fbfbf\">                    </span>         DeprecationWarning: <span style=\"color: #800080; text-decoration-color: #800080; font-weight: bold\">panel.Pane</span><span style=\"font-weight: bold\">(</span><span style=\"color: #808000; text-decoration-color: #808000\">...</span><span style=\"font-weight: bold\">)</span> is deprecated, use                 <span style=\"color: #7f7f7f; text-decoration-color: #7f7f7f\">               </span>\n",
       "<span style=\"color: #7fbfbf; text-decoration-color: #7fbfbf\">                    </span>         <span style=\"color: #800080; text-decoration-color: #800080; font-weight: bold\">panel.panel</span><span style=\"font-weight: bold\">(</span><span style=\"color: #808000; text-decoration-color: #808000\">...</span><span style=\"font-weight: bold\">)</span> instead.                                              <span style=\"color: #7f7f7f; text-decoration-color: #7f7f7f\">               </span>\n",
       "<span style=\"color: #7fbfbf; text-decoration-color: #7fbfbf\">                    </span>           <span style=\"color: #800080; text-decoration-color: #800080; font-weight: bold\">warnings.warn</span><span style=\"font-weight: bold\">(</span>                                                       <span style=\"color: #7f7f7f; text-decoration-color: #7f7f7f\">               </span>\n",
       "<span style=\"color: #7fbfbf; text-decoration-color: #7fbfbf\">                    </span>                                                                                <span style=\"color: #7f7f7f; text-decoration-color: #7f7f7f\">               </span>\n",
       "</pre>\n"
      ],
      "text/plain": [
       "\u001b[2;36m[08/02/22 19:30:17]\u001b[0m\u001b[2;36m \u001b[0m\u001b[31mWARNING \u001b[0m C:\\Users\\User\\anaconda3\\lib\\site-packages\\panel\\pane\\base.py:\u001b[1;36m38\u001b[0m:       \u001b]8;id=682895;file://C:\\Users\\User\\anaconda3\\lib\\warnings.py\u001b\\\u001b[2mwarnings.py\u001b[0m\u001b]8;;\u001b\\\u001b[2m:\u001b[0m\u001b]8;id=886143;file://C:\\Users\\User\\anaconda3\\lib\\warnings.py#109\u001b\\\u001b[2m109\u001b[0m\u001b]8;;\u001b\\\n",
       "\u001b[2;36m                    \u001b[0m         DeprecationWarning: \u001b[1;35mpanel.Pane\u001b[0m\u001b[1m(\u001b[0m\u001b[33m...\u001b[0m\u001b[1m)\u001b[0m is deprecated, use                 \u001b[2m               \u001b[0m\n",
       "\u001b[2;36m                    \u001b[0m         \u001b[1;35mpanel.panel\u001b[0m\u001b[1m(\u001b[0m\u001b[33m...\u001b[0m\u001b[1m)\u001b[0m instead.                                              \u001b[2m               \u001b[0m\n",
       "\u001b[2;36m                    \u001b[0m           \u001b[1;35mwarnings.warn\u001b[0m\u001b[1m(\u001b[0m                                                       \u001b[2m               \u001b[0m\n",
       "\u001b[2;36m                    \u001b[0m                                                                                \u001b[2m               \u001b[0m\n"
      ]
     },
     "metadata": {},
     "output_type": "display_data"
    },
    {
     "data": {
      "text/html": [
       "<pre style=\"white-space:pre;overflow-x:auto;line-height:normal;font-family:Menlo,'DejaVu Sans Mono',consolas,'Courier New',monospace\"><span style=\"color: #7fbfbf; text-decoration-color: #7fbfbf\">                    </span><span style=\"color: #800000; text-decoration-color: #800000\">WARNING </span> C:\\Users\\User\\anaconda3\\lib\\site-packages\\bokeh\\core\\property\\bases.py <a href=\"file://C:\\Users\\User\\anaconda3\\lib\\warnings.py\" target=\"_blank\"><span style=\"color: #7f7f7f; text-decoration-color: #7f7f7f\">warnings.py</span></a><span style=\"color: #7f7f7f; text-decoration-color: #7f7f7f\">:</span><a href=\"file://C:\\Users\\User\\anaconda3\\lib\\warnings.py#109\" target=\"_blank\"><span style=\"color: #7f7f7f; text-decoration-color: #7f7f7f\">109</span></a>\n",
       "<span style=\"color: #7fbfbf; text-decoration-color: #7fbfbf\">                    </span>         :<span style=\"color: #008080; text-decoration-color: #008080; font-weight: bold\">259</span>: DeprecationWarning: elementwise comparison failed; this will     <span style=\"color: #7f7f7f; text-decoration-color: #7f7f7f\">               </span>\n",
       "<span style=\"color: #7fbfbf; text-decoration-color: #7fbfbf\">                    </span>         raise an error in the future.                                          <span style=\"color: #7f7f7f; text-decoration-color: #7f7f7f\">               </span>\n",
       "<span style=\"color: #7fbfbf; text-decoration-color: #7fbfbf\">                    </span>           return new == old                                                    <span style=\"color: #7f7f7f; text-decoration-color: #7f7f7f\">               </span>\n",
       "<span style=\"color: #7fbfbf; text-decoration-color: #7fbfbf\">                    </span>                                                                                <span style=\"color: #7f7f7f; text-decoration-color: #7f7f7f\">               </span>\n",
       "</pre>\n"
      ],
      "text/plain": [
       "\u001b[2;36m                   \u001b[0m\u001b[2;36m \u001b[0m\u001b[31mWARNING \u001b[0m C:\\Users\\User\\anaconda3\\lib\\site-packages\\bokeh\\core\\property\\bases.py \u001b]8;id=259348;file://C:\\Users\\User\\anaconda3\\lib\\warnings.py\u001b\\\u001b[2mwarnings.py\u001b[0m\u001b]8;;\u001b\\\u001b[2m:\u001b[0m\u001b]8;id=585623;file://C:\\Users\\User\\anaconda3\\lib\\warnings.py#109\u001b\\\u001b[2m109\u001b[0m\u001b]8;;\u001b\\\n",
       "\u001b[2;36m                    \u001b[0m         :\u001b[1;36m259\u001b[0m: DeprecationWarning: elementwise comparison failed; this will     \u001b[2m               \u001b[0m\n",
       "\u001b[2;36m                    \u001b[0m         raise an error in the future.                                          \u001b[2m               \u001b[0m\n",
       "\u001b[2;36m                    \u001b[0m           return new == old                                                    \u001b[2m               \u001b[0m\n",
       "\u001b[2;36m                    \u001b[0m                                                                                \u001b[2m               \u001b[0m\n"
      ]
     },
     "metadata": {},
     "output_type": "display_data"
    },
    {
     "data": {},
     "metadata": {},
     "output_type": "display_data"
    },
    {
     "data": {},
     "metadata": {},
     "output_type": "display_data"
    },
    {
     "data": {
      "text/html": [
       "<pre style=\"white-space:pre;overflow-x:auto;line-height:normal;font-family:Menlo,'DejaVu Sans Mono',consolas,'Courier New',monospace\"><span style=\"color: #7fbfbf; text-decoration-color: #7fbfbf\">                    </span><span style=\"color: #800000; text-decoration-color: #800000\">WARNING </span> C:\\Users\\User\\anaconda3\\lib\\site-packages\\bokeh\\core\\property\\bases.py <a href=\"file://C:\\Users\\User\\anaconda3\\lib\\warnings.py\" target=\"_blank\"><span style=\"color: #7f7f7f; text-decoration-color: #7f7f7f\">warnings.py</span></a><span style=\"color: #7f7f7f; text-decoration-color: #7f7f7f\">:</span><a href=\"file://C:\\Users\\User\\anaconda3\\lib\\warnings.py#109\" target=\"_blank\"><span style=\"color: #7f7f7f; text-decoration-color: #7f7f7f\">109</span></a>\n",
       "<span style=\"color: #7fbfbf; text-decoration-color: #7fbfbf\">                    </span>         :<span style=\"color: #008080; text-decoration-color: #008080; font-weight: bold\">259</span>: DeprecationWarning: elementwise comparison failed; this will     <span style=\"color: #7f7f7f; text-decoration-color: #7f7f7f\">               </span>\n",
       "<span style=\"color: #7fbfbf; text-decoration-color: #7fbfbf\">                    </span>         raise an error in the future.                                          <span style=\"color: #7f7f7f; text-decoration-color: #7f7f7f\">               </span>\n",
       "<span style=\"color: #7fbfbf; text-decoration-color: #7fbfbf\">                    </span>           return new == old                                                    <span style=\"color: #7f7f7f; text-decoration-color: #7f7f7f\">               </span>\n",
       "<span style=\"color: #7fbfbf; text-decoration-color: #7fbfbf\">                    </span>                                                                                <span style=\"color: #7f7f7f; text-decoration-color: #7f7f7f\">               </span>\n",
       "</pre>\n"
      ],
      "text/plain": [
       "\u001b[2;36m                   \u001b[0m\u001b[2;36m \u001b[0m\u001b[31mWARNING \u001b[0m C:\\Users\\User\\anaconda3\\lib\\site-packages\\bokeh\\core\\property\\bases.py \u001b]8;id=927699;file://C:\\Users\\User\\anaconda3\\lib\\warnings.py\u001b\\\u001b[2mwarnings.py\u001b[0m\u001b]8;;\u001b\\\u001b[2m:\u001b[0m\u001b]8;id=830000;file://C:\\Users\\User\\anaconda3\\lib\\warnings.py#109\u001b\\\u001b[2m109\u001b[0m\u001b]8;;\u001b\\\n",
       "\u001b[2;36m                    \u001b[0m         :\u001b[1;36m259\u001b[0m: DeprecationWarning: elementwise comparison failed; this will     \u001b[2m               \u001b[0m\n",
       "\u001b[2;36m                    \u001b[0m         raise an error in the future.                                          \u001b[2m               \u001b[0m\n",
       "\u001b[2;36m                    \u001b[0m           return new == old                                                    \u001b[2m               \u001b[0m\n",
       "\u001b[2;36m                    \u001b[0m                                                                                \u001b[2m               \u001b[0m\n"
      ]
     },
     "metadata": {},
     "output_type": "display_data"
    },
    {
     "data": {},
     "metadata": {},
     "output_type": "display_data"
    },
    {
     "data": {},
     "metadata": {},
     "output_type": "display_data"
    },
    {
     "data": {
      "application/vnd.holoviews_exec.v0+json": "",
      "text/html": [
       "<div id='1012'>\n",
       "\n",
       "\n",
       "\n",
       "\n",
       "\n",
       "  <div class=\"bk-root\" id=\"57ad867f-0bdc-4281-8849-73e7cbe4b95a\" data-root-id=\"1012\"></div>\n",
       "</div>\n",
       "<script type=\"application/javascript\">(function(root) {\n",
       "  function embed_document(root) {\n",
       "    var docs_json = {\"b826cbf7-a1ce-4299-83dc-344f12906685\":{\"defs\":[{\"extends\":null,\"module\":null,\"name\":\"ReactiveHTML1\",\"overrides\":[],\"properties\":[]},{\"extends\":null,\"module\":null,\"name\":\"FlexBox1\",\"overrides\":[],\"properties\":[{\"default\":\"flex-start\",\"kind\":null,\"name\":\"align_content\"},{\"default\":\"flex-start\",\"kind\":null,\"name\":\"align_items\"},{\"default\":\"row\",\"kind\":null,\"name\":\"flex_direction\"},{\"default\":\"wrap\",\"kind\":null,\"name\":\"flex_wrap\"},{\"default\":\"flex-start\",\"kind\":null,\"name\":\"justify_content\"}]},{\"extends\":null,\"module\":null,\"name\":\"GridStack1\",\"overrides\":[],\"properties\":[{\"default\":\"warn\",\"kind\":null,\"name\":\"mode\"},{\"default\":null,\"kind\":null,\"name\":\"ncols\"},{\"default\":null,\"kind\":null,\"name\":\"nrows\"},{\"default\":true,\"kind\":null,\"name\":\"allow_resize\"},{\"default\":true,\"kind\":null,\"name\":\"allow_drag\"},{\"default\":[],\"kind\":null,\"name\":\"state\"}]},{\"extends\":null,\"module\":null,\"name\":\"click1\",\"overrides\":[],\"properties\":[{\"default\":\"\",\"kind\":null,\"name\":\"terminal_output\"},{\"default\":\"\",\"kind\":null,\"name\":\"debug_name\"},{\"default\":0,\"kind\":null,\"name\":\"clears\"}]},{\"extends\":null,\"module\":null,\"name\":\"NotificationAreaBase1\",\"overrides\":[],\"properties\":[{\"default\":\"bottom-right\",\"kind\":null,\"name\":\"position\"},{\"default\":0,\"kind\":null,\"name\":\"_clear\"}]},{\"extends\":null,\"module\":null,\"name\":\"NotificationArea1\",\"overrides\":[],\"properties\":[{\"default\":[],\"kind\":null,\"name\":\"notifications\"},{\"default\":\"bottom-right\",\"kind\":null,\"name\":\"position\"},{\"default\":0,\"kind\":null,\"name\":\"_clear\"},{\"default\":[{\"background\":\"#ffc107\",\"icon\":{\"className\":\"fas fa-exclamation-triangle\",\"color\":\"white\",\"tagName\":\"i\"},\"type\":\"warning\"},{\"background\":\"#007bff\",\"icon\":{\"className\":\"fas fa-info-circle\",\"color\":\"white\",\"tagName\":\"i\"},\"type\":\"info\"}],\"kind\":null,\"name\":\"types\"}]},{\"extends\":null,\"module\":null,\"name\":\"Notification\",\"overrides\":[],\"properties\":[{\"default\":null,\"kind\":null,\"name\":\"background\"},{\"default\":3000,\"kind\":null,\"name\":\"duration\"},{\"default\":null,\"kind\":null,\"name\":\"icon\"},{\"default\":\"\",\"kind\":null,\"name\":\"message\"},{\"default\":null,\"kind\":null,\"name\":\"notification_type\"},{\"default\":false,\"kind\":null,\"name\":\"_destroyed\"}]},{\"extends\":null,\"module\":null,\"name\":\"TemplateActions1\",\"overrides\":[],\"properties\":[{\"default\":0,\"kind\":null,\"name\":\"open_modal\"},{\"default\":0,\"kind\":null,\"name\":\"close_modal\"}]},{\"extends\":null,\"module\":null,\"name\":\"MaterialTemplateActions1\",\"overrides\":[],\"properties\":[{\"default\":0,\"kind\":null,\"name\":\"open_modal\"},{\"default\":0,\"kind\":null,\"name\":\"close_modal\"}]}],\"roots\":{\"references\":[{\"attributes\":{\"end\":1104451200000.0,\"reset_end\":1104451200000.0,\"reset_start\":883612800000.0,\"start\":883612800000.0,\"tags\":[[[\"Date\",\"Date\",null]]]},\"id\":\"1015\",\"type\":\"Range1d\"},{\"attributes\":{},\"id\":\"1058\",\"type\":\"DatetimeTickFormatter\"},{\"attributes\":{},\"id\":\"1036\",\"type\":\"PanTool\"},{\"attributes\":{\"days\":[1,4,7,10,13,16,19,22,25,28]},\"id\":\"1077\",\"type\":\"DaysTicker\"},{\"attributes\":{\"client_comm_id\":\"9e97d511d4954a698b96b86ed585ad34\",\"comm_id\":\"42e3d60d6cfe4963a920be532cc59408\",\"plot_id\":\"1012\"},\"id\":\"1151\",\"type\":\"panel.models.comm_manager.CommManager\"},{\"attributes\":{\"months\":[0,4,8]},\"id\":\"1082\",\"type\":\"MonthsTicker\"},{\"attributes\":{},\"id\":\"1062\",\"type\":\"AllLabels\"},{\"attributes\":{\"axis\":{\"id\":\"1027\"},\"coordinates\":null,\"grid_line_color\":null,\"group\":null,\"ticker\":null},\"id\":\"1030\",\"type\":\"Grid\"},{\"attributes\":{},\"id\":\"1037\",\"type\":\"WheelZoomTool\"},{\"attributes\":{},\"id\":\"1059\",\"type\":\"AllLabels\"},{\"attributes\":{\"children\":[{\"id\":\"1013\"},{\"id\":\"1014\"}],\"margin\":[0,0,0,0],\"name\":\"Row01152\"},\"id\":\"1012\",\"type\":\"Row\"},{\"attributes\":{\"children\":[{\"id\":\"1018\"}],\"margin\":[0,0,0,0],\"name\":\"Row00994\"},\"id\":\"1014\",\"type\":\"Row\"},{\"attributes\":{\"callback\":null,\"formatters\":{\"@{Date}\":\"datetime\"},\"renderers\":[{\"id\":\"1054\"}],\"tags\":[\"hv_created\"],\"tooltips\":[[\"Date\",\"@{Date}{%F %T}\"],[\"WSR0\",\"@{WSR0}\"]]},\"id\":\"1017\",\"type\":\"HoverTool\"},{\"attributes\":{},\"id\":\"1061\",\"type\":\"BasicTickFormatter\"},{\"attributes\":{\"months\":[0,2,4,6,8,10]},\"id\":\"1081\",\"type\":\"MonthsTicker\"},{\"attributes\":{\"days\":[1,15]},\"id\":\"1079\",\"type\":\"DaysTicker\"},{\"attributes\":{},\"id\":\"1023\",\"type\":\"LinearScale\"},{\"attributes\":{\"days\":[1,2,3,4,5,6,7,8,9,10,11,12,13,14,15,16,17,18,19,20,21,22,23,24,25,26,27,28,29,30,31]},\"id\":\"1076\",\"type\":\"DaysTicker\"},{\"attributes\":{\"axis_label\":\"WSR0\",\"coordinates\":null,\"formatter\":{\"id\":\"1061\"},\"group\":null,\"major_label_policy\":{\"id\":\"1062\"},\"ticker\":{\"id\":\"1032\"}},\"id\":\"1031\",\"type\":\"LinearAxis\"},{\"attributes\":{\"line_alpha\":0.2,\"line_color\":\"#30a2da\",\"line_width\":2,\"x\":{\"field\":\"Date\"},\"y\":{\"field\":\"WSR0\"}},\"id\":\"1053\",\"type\":\"Line\"},{\"attributes\":{\"num_minor_ticks\":5,\"tickers\":[{\"id\":\"1073\"},{\"id\":\"1074\"},{\"id\":\"1075\"},{\"id\":\"1076\"},{\"id\":\"1077\"},{\"id\":\"1078\"},{\"id\":\"1079\"},{\"id\":\"1080\"},{\"id\":\"1081\"},{\"id\":\"1082\"},{\"id\":\"1083\"},{\"id\":\"1084\"}]},\"id\":\"1028\",\"type\":\"DatetimeTicker\"},{\"attributes\":{\"mantissas\":[1,2,5],\"max_interval\":500.0,\"num_minor_ticks\":0},\"id\":\"1073\",\"type\":\"AdaptiveTicker\"},{\"attributes\":{\"end\":8.25,\"reset_end\":8.25,\"reset_start\":-0.75,\"start\":-0.75,\"tags\":[[[\"WSR0\",\"WSR0\",null]]]},\"id\":\"1016\",\"type\":\"Range1d\"},{\"attributes\":{\"months\":[0,6]},\"id\":\"1083\",\"type\":\"MonthsTicker\"},{\"attributes\":{\"source\":{\"id\":\"1048\"}},\"id\":\"1055\",\"type\":\"CDSView\"},{\"attributes\":{\"coordinates\":null,\"group\":null,\"text_color\":\"black\",\"text_font_size\":\"12pt\"},\"id\":\"1019\",\"type\":\"Title\"},{\"attributes\":{},\"id\":\"1039\",\"type\":\"ResetTool\"},{\"attributes\":{\"below\":[{\"id\":\"1027\"}],\"center\":[{\"id\":\"1030\"},{\"id\":\"1034\"}],\"height\":300,\"left\":[{\"id\":\"1031\"}],\"margin\":[5,5,5,5],\"min_border_bottom\":10,\"min_border_left\":10,\"min_border_right\":10,\"min_border_top\":10,\"renderers\":[{\"id\":\"1054\"}],\"sizing_mode\":\"fixed\",\"title\":{\"id\":\"1019\"},\"toolbar\":{\"id\":\"1041\"},\"width\":700,\"x_range\":{\"id\":\"1015\"},\"x_scale\":{\"id\":\"1023\"},\"y_range\":{\"id\":\"1016\"},\"y_scale\":{\"id\":\"1025\"}},\"id\":\"1018\",\"subtype\":\"Figure\",\"type\":\"Plot\"},{\"attributes\":{\"line_color\":\"#30a2da\",\"line_width\":2,\"x\":{\"field\":\"Date\"},\"y\":{\"field\":\"WSR0\"}},\"id\":\"1056\",\"type\":\"Line\"},{\"attributes\":{\"data\":{\"Date\":{\"__ndarray__\":\"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\",\"dtype\":\"float64\",\"order\":\"little\",\"shape\":[2536]},\"WSR0\":{\"__ndarray__\":\"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\",\"dtype\":\"float64\",\"order\":\"little\",\"shape\":[2536]}},\"selected\":{\"id\":\"1049\"},\"selection_policy\":{\"id\":\"1070\"}},\"id\":\"1048\",\"type\":\"ColumnDataSource\"},{\"attributes\":{\"coordinates\":null,\"data_source\":{\"id\":\"1048\"},\"glyph\":{\"id\":\"1051\"},\"group\":null,\"hover_glyph\":null,\"muted_glyph\":{\"id\":\"1053\"},\"nonselection_glyph\":{\"id\":\"1052\"},\"selection_glyph\":{\"id\":\"1056\"},\"view\":{\"id\":\"1055\"}},\"id\":\"1054\",\"type\":\"GlyphRenderer\"},{\"attributes\":{},\"id\":\"1035\",\"type\":\"SaveTool\"},{\"attributes\":{\"base\":60,\"mantissas\":[1,2,5,10,15,20,30],\"max_interval\":1800000.0,\"min_interval\":1000.0,\"num_minor_ticks\":0},\"id\":\"1074\",\"type\":\"AdaptiveTicker\"},{\"attributes\":{\"reload\":false},\"id\":\"1218\",\"type\":\"panel.models.location.Location\"},{\"attributes\":{\"tools\":[{\"id\":\"1017\"},{\"id\":\"1035\"},{\"id\":\"1036\"},{\"id\":\"1037\"},{\"id\":\"1038\"},{\"id\":\"1039\"}]},\"id\":\"1041\",\"type\":\"Toolbar\"},{\"attributes\":{\"margin\":[5,10,5,10],\"options\":[\"WSR0\",\"WSR1\",\"WSR2\",\"WSR3\",\"WSR4\",\"WSR5\",\"WSR6\",\"WSR7\",\"WSR8\",\"WSR9\",\"WSR10\",\"WSR11\",\"WSR12\",\"WSR13\",\"WSR14\",\"WSR15\",\"WSR16\",\"WSR17\",\"WSR18\",\"WSR19\",\"WSR20\",\"WSR21\",\"WSR22\",\"WSR23\",\"WSR_PK\",\"WSR_AV\",\"T0\",\"T1\",\"T2\",\"T3\",\"T4\",\"T5\",\"T6\",\"T7\",\"T8\",\"T9\",\"T10\",\"T11\",\"T12\",\"T13\",\"T14\",\"T15\",\"T16\",\"T17\",\"T18\",\"T19\",\"T20\",\"T21\",\"T22\",\"T23\",\"T_PK\",\"T_AV\",\"T85\",\"RH85\",\"U85\",\"V85\",\"HT85\",\"T70\",\"RH70\",\"U70\",\"V70\",\"HT70\",\"T50\",\"RH50\",\"U50\",\"V50\",\"HT50\",\"KI\",\"TT\",\"SLP\",\"SLP_\",\"Precp\"],\"size\":10,\"title\":\"y\",\"value\":\"WSR0\"},\"id\":\"1013\",\"type\":\"panel.models.widgets.SingleSelect\"},{\"attributes\":{\"days\":[1,8,15,22]},\"id\":\"1078\",\"type\":\"DaysTicker\"},{\"attributes\":{\"line_color\":\"#30a2da\",\"line_width\":2,\"x\":{\"field\":\"Date\"},\"y\":{\"field\":\"WSR0\"}},\"id\":\"1051\",\"type\":\"Line\"},{\"attributes\":{},\"id\":\"1032\",\"type\":\"BasicTicker\"},{\"attributes\":{\"axis_label\":\"Date\",\"coordinates\":null,\"formatter\":{\"id\":\"1058\"},\"group\":null,\"major_label_policy\":{\"id\":\"1059\"},\"ticker\":{\"id\":\"1028\"}},\"id\":\"1027\",\"type\":\"DatetimeAxis\"},{\"attributes\":{\"overlay\":{\"id\":\"1040\"}},\"id\":\"1038\",\"type\":\"BoxZoomTool\"},{\"attributes\":{\"months\":[0,1,2,3,4,5,6,7,8,9,10,11]},\"id\":\"1080\",\"type\":\"MonthsTicker\"},{\"attributes\":{},\"id\":\"1084\",\"type\":\"YearsTicker\"},{\"attributes\":{\"line_alpha\":0.1,\"line_color\":\"#30a2da\",\"line_width\":2,\"x\":{\"field\":\"Date\"},\"y\":{\"field\":\"WSR0\"}},\"id\":\"1052\",\"type\":\"Line\"},{\"attributes\":{\"axis\":{\"id\":\"1031\"},\"coordinates\":null,\"dimension\":1,\"grid_line_color\":null,\"group\":null,\"ticker\":null},\"id\":\"1034\",\"type\":\"Grid\"},{\"attributes\":{\"base\":24,\"mantissas\":[1,2,4,6,8,12],\"max_interval\":43200000.0,\"min_interval\":3600000.0,\"num_minor_ticks\":0},\"id\":\"1075\",\"type\":\"AdaptiveTicker\"},{\"attributes\":{\"bottom_units\":\"screen\",\"coordinates\":null,\"fill_alpha\":0.5,\"fill_color\":\"lightgrey\",\"group\":null,\"left_units\":\"screen\",\"level\":\"overlay\",\"line_alpha\":1.0,\"line_color\":\"black\",\"line_dash\":[4,4],\"line_width\":2,\"right_units\":\"screen\",\"syncable\":false,\"top_units\":\"screen\"},\"id\":\"1040\",\"type\":\"BoxAnnotation\"},{\"attributes\":{},\"id\":\"1049\",\"type\":\"Selection\"},{\"attributes\":{},\"id\":\"1070\",\"type\":\"UnionRenderers\"},{\"attributes\":{},\"id\":\"1025\",\"type\":\"LinearScale\"}],\"root_ids\":[\"1012\",\"1151\",\"1218\"]},\"title\":\"Bokeh Application\",\"version\":\"2.4.1\"}};\n",
       "    var render_items = [{\"docid\":\"b826cbf7-a1ce-4299-83dc-344f12906685\",\"root_ids\":[\"1012\"],\"roots\":{\"1012\":\"57ad867f-0bdc-4281-8849-73e7cbe4b95a\"}}];\n",
       "    root.Bokeh.embed.embed_items_notebook(docs_json, render_items);\n",
       "  }\n",
       "  if (root.Bokeh !== undefined && root.Bokeh.Panel !== undefined) {\n",
       "    embed_document(root);\n",
       "  } else {\n",
       "    var attempts = 0;\n",
       "    var timer = setInterval(function(root) {\n",
       "      if (root.Bokeh !== undefined && root.Bokeh.Panel !== undefined) {\n",
       "        clearInterval(timer);\n",
       "        embed_document(root);\n",
       "      } else if (document.readyState == \"complete\") {\n",
       "        attempts++;\n",
       "        if (attempts > 200) {\n",
       "          clearInterval(timer);\n",
       "          console.log(\"Bokeh: ERROR: Unable to run BokehJS code because BokehJS library is missing\");\n",
       "        }\n",
       "      }\n",
       "    }, 25, root)\n",
       "  }\n",
       "})(window);</script>"
      ]
     },
     "execution_count": 15,
     "metadata": {
      "application/vnd.holoviews_exec.v0+json": {
       "id": "1012"
      }
     },
     "output_type": "execute_result"
    }
   ],
   "source": [
    "import hvplot.pandas\n",
    "import panel as pn\n",
    "pn.extension()\n",
    "\n",
    "cols = list(data.columns)\n",
    "cols.remove('Date')\n",
    "cols.remove('class')\n",
    "\n",
    "y=pn.widgets.Select(name='y',options=cols,size=10)\n",
    "\n",
    "plot = data.hvplot(x='Date',y=y)\n",
    "\n",
    "pn.Row(y,plot)"
   ]
  },
  {
   "cell_type": "code",
   "execution_count": 16,
   "id": "001f3561",
   "metadata": {},
   "outputs": [
    {
     "data": {
      "text/html": [
       "<pre style=\"white-space:pre;overflow-x:auto;line-height:normal;font-family:Menlo,'DejaVu Sans Mono',consolas,'Courier New',monospace\"><span style=\"color: #7fbfbf; text-decoration-color: #7fbfbf\">[08/02/22 19:30:22] </span><span style=\"color: #800000; text-decoration-color: #800000\">WARNING </span> C:\\Users\\User\\anaconda3\\lib\\site-packages\\panel\\pane\\base.py:<span style=\"color: #008080; text-decoration-color: #008080; font-weight: bold\">38</span>:       <a href=\"file://C:\\Users\\User\\anaconda3\\lib\\warnings.py\" target=\"_blank\"><span style=\"color: #7f7f7f; text-decoration-color: #7f7f7f\">warnings.py</span></a><span style=\"color: #7f7f7f; text-decoration-color: #7f7f7f\">:</span><a href=\"file://C:\\Users\\User\\anaconda3\\lib\\warnings.py#109\" target=\"_blank\"><span style=\"color: #7f7f7f; text-decoration-color: #7f7f7f\">109</span></a>\n",
       "<span style=\"color: #7fbfbf; text-decoration-color: #7fbfbf\">                    </span>         DeprecationWarning: <span style=\"color: #800080; text-decoration-color: #800080; font-weight: bold\">panel.Pane</span><span style=\"font-weight: bold\">(</span><span style=\"color: #808000; text-decoration-color: #808000\">...</span><span style=\"font-weight: bold\">)</span> is deprecated, use                 <span style=\"color: #7f7f7f; text-decoration-color: #7f7f7f\">               </span>\n",
       "<span style=\"color: #7fbfbf; text-decoration-color: #7fbfbf\">                    </span>         <span style=\"color: #800080; text-decoration-color: #800080; font-weight: bold\">panel.panel</span><span style=\"font-weight: bold\">(</span><span style=\"color: #808000; text-decoration-color: #808000\">...</span><span style=\"font-weight: bold\">)</span> instead.                                              <span style=\"color: #7f7f7f; text-decoration-color: #7f7f7f\">               </span>\n",
       "<span style=\"color: #7fbfbf; text-decoration-color: #7fbfbf\">                    </span>           <span style=\"color: #800080; text-decoration-color: #800080; font-weight: bold\">warnings.warn</span><span style=\"font-weight: bold\">(</span>                                                       <span style=\"color: #7f7f7f; text-decoration-color: #7f7f7f\">               </span>\n",
       "<span style=\"color: #7fbfbf; text-decoration-color: #7fbfbf\">                    </span>                                                                                <span style=\"color: #7f7f7f; text-decoration-color: #7f7f7f\">               </span>\n",
       "</pre>\n"
      ],
      "text/plain": [
       "\u001b[2;36m[08/02/22 19:30:22]\u001b[0m\u001b[2;36m \u001b[0m\u001b[31mWARNING \u001b[0m C:\\Users\\User\\anaconda3\\lib\\site-packages\\panel\\pane\\base.py:\u001b[1;36m38\u001b[0m:       \u001b]8;id=100662;file://C:\\Users\\User\\anaconda3\\lib\\warnings.py\u001b\\\u001b[2mwarnings.py\u001b[0m\u001b]8;;\u001b\\\u001b[2m:\u001b[0m\u001b]8;id=555033;file://C:\\Users\\User\\anaconda3\\lib\\warnings.py#109\u001b\\\u001b[2m109\u001b[0m\u001b]8;;\u001b\\\n",
       "\u001b[2;36m                    \u001b[0m         DeprecationWarning: \u001b[1;35mpanel.Pane\u001b[0m\u001b[1m(\u001b[0m\u001b[33m...\u001b[0m\u001b[1m)\u001b[0m is deprecated, use                 \u001b[2m               \u001b[0m\n",
       "\u001b[2;36m                    \u001b[0m         \u001b[1;35mpanel.panel\u001b[0m\u001b[1m(\u001b[0m\u001b[33m...\u001b[0m\u001b[1m)\u001b[0m instead.                                              \u001b[2m               \u001b[0m\n",
       "\u001b[2;36m                    \u001b[0m           \u001b[1;35mwarnings.warn\u001b[0m\u001b[1m(\u001b[0m                                                       \u001b[2m               \u001b[0m\n",
       "\u001b[2;36m                    \u001b[0m                                                                                \u001b[2m               \u001b[0m\n"
      ]
     },
     "metadata": {},
     "output_type": "display_data"
    },
    {
     "data": {},
     "metadata": {},
     "output_type": "display_data"
    },
    {
     "data": {},
     "metadata": {},
     "output_type": "display_data"
    },
    {
     "data": {},
     "metadata": {},
     "output_type": "display_data"
    },
    {
     "data": {},
     "metadata": {},
     "output_type": "display_data"
    },
    {
     "data": {
      "application/vnd.holoviews_exec.v0+json": "",
      "text/html": [
       "<div id='1535'>\n",
       "\n",
       "\n",
       "\n",
       "\n",
       "\n",
       "  <div class=\"bk-root\" id=\"0b467642-8486-4b77-9275-16b2a1844c90\" data-root-id=\"1535\"></div>\n",
       "</div>\n",
       "<script type=\"application/javascript\">(function(root) {\n",
       "  function embed_document(root) {\n",
       "    var docs_json = {\"f2e87de2-8d17-4504-b6e9-2d20406bfe5c\":{\"defs\":[{\"extends\":null,\"module\":null,\"name\":\"ReactiveHTML1\",\"overrides\":[],\"properties\":[]},{\"extends\":null,\"module\":null,\"name\":\"FlexBox1\",\"overrides\":[],\"properties\":[{\"default\":\"flex-start\",\"kind\":null,\"name\":\"align_content\"},{\"default\":\"flex-start\",\"kind\":null,\"name\":\"align_items\"},{\"default\":\"row\",\"kind\":null,\"name\":\"flex_direction\"},{\"default\":\"wrap\",\"kind\":null,\"name\":\"flex_wrap\"},{\"default\":\"flex-start\",\"kind\":null,\"name\":\"justify_content\"}]},{\"extends\":null,\"module\":null,\"name\":\"GridStack1\",\"overrides\":[],\"properties\":[{\"default\":\"warn\",\"kind\":null,\"name\":\"mode\"},{\"default\":null,\"kind\":null,\"name\":\"ncols\"},{\"default\":null,\"kind\":null,\"name\":\"nrows\"},{\"default\":true,\"kind\":null,\"name\":\"allow_resize\"},{\"default\":true,\"kind\":null,\"name\":\"allow_drag\"},{\"default\":[],\"kind\":null,\"name\":\"state\"}]},{\"extends\":null,\"module\":null,\"name\":\"click1\",\"overrides\":[],\"properties\":[{\"default\":\"\",\"kind\":null,\"name\":\"terminal_output\"},{\"default\":\"\",\"kind\":null,\"name\":\"debug_name\"},{\"default\":0,\"kind\":null,\"name\":\"clears\"}]},{\"extends\":null,\"module\":null,\"name\":\"NotificationAreaBase1\",\"overrides\":[],\"properties\":[{\"default\":\"bottom-right\",\"kind\":null,\"name\":\"position\"},{\"default\":0,\"kind\":null,\"name\":\"_clear\"}]},{\"extends\":null,\"module\":null,\"name\":\"NotificationArea1\",\"overrides\":[],\"properties\":[{\"default\":[],\"kind\":null,\"name\":\"notifications\"},{\"default\":\"bottom-right\",\"kind\":null,\"name\":\"position\"},{\"default\":0,\"kind\":null,\"name\":\"_clear\"},{\"default\":[{\"background\":\"#ffc107\",\"icon\":{\"className\":\"fas fa-exclamation-triangle\",\"color\":\"white\",\"tagName\":\"i\"},\"type\":\"warning\"},{\"background\":\"#007bff\",\"icon\":{\"className\":\"fas fa-info-circle\",\"color\":\"white\",\"tagName\":\"i\"},\"type\":\"info\"}],\"kind\":null,\"name\":\"types\"}]},{\"extends\":null,\"module\":null,\"name\":\"Notification\",\"overrides\":[],\"properties\":[{\"default\":null,\"kind\":null,\"name\":\"background\"},{\"default\":3000,\"kind\":null,\"name\":\"duration\"},{\"default\":null,\"kind\":null,\"name\":\"icon\"},{\"default\":\"\",\"kind\":null,\"name\":\"message\"},{\"default\":null,\"kind\":null,\"name\":\"notification_type\"},{\"default\":false,\"kind\":null,\"name\":\"_destroyed\"}]},{\"extends\":null,\"module\":null,\"name\":\"TemplateActions1\",\"overrides\":[],\"properties\":[{\"default\":0,\"kind\":null,\"name\":\"open_modal\"},{\"default\":0,\"kind\":null,\"name\":\"close_modal\"}]},{\"extends\":null,\"module\":null,\"name\":\"MaterialTemplateActions1\",\"overrides\":[],\"properties\":[{\"default\":0,\"kind\":null,\"name\":\"open_modal\"},{\"default\":0,\"kind\":null,\"name\":\"close_modal\"}]}],\"roots\":{\"references\":[{\"attributes\":{\"below\":[{\"id\":\"1550\"}],\"center\":[{\"id\":\"1553\"},{\"id\":\"1557\"}],\"height\":300,\"left\":[{\"id\":\"1554\"}],\"margin\":[5,5,5,5],\"min_border_bottom\":10,\"min_border_left\":10,\"min_border_right\":10,\"min_border_top\":10,\"renderers\":[{\"id\":\"1577\"}],\"sizing_mode\":\"fixed\",\"title\":{\"id\":\"1542\"},\"toolbar\":{\"id\":\"1564\"},\"width\":700,\"x_range\":{\"id\":\"1538\"},\"x_scale\":{\"id\":\"1546\"},\"y_range\":{\"id\":\"1539\"},\"y_scale\":{\"id\":\"1548\"}},\"id\":\"1541\",\"subtype\":\"Figure\",\"type\":\"Plot\"},{\"attributes\":{\"overlay\":{\"id\":\"1563\"}},\"id\":\"1561\",\"type\":\"BoxZoomTool\"},{\"attributes\":{},\"id\":\"1562\",\"type\":\"ResetTool\"},{\"attributes\":{},\"id\":\"1546\",\"type\":\"LinearScale\"},{\"attributes\":{\"bottom_units\":\"screen\",\"coordinates\":null,\"fill_alpha\":0.5,\"fill_color\":\"lightgrey\",\"group\":null,\"left_units\":\"screen\",\"level\":\"overlay\",\"line_alpha\":1.0,\"line_color\":\"black\",\"line_dash\":[4,4],\"line_width\":2,\"right_units\":\"screen\",\"syncable\":false,\"top_units\":\"screen\"},\"id\":\"1563\",\"type\":\"BoxAnnotation\"},{\"attributes\":{},\"id\":\"1581\",\"type\":\"BasicTickFormatter\"},{\"attributes\":{},\"id\":\"1582\",\"type\":\"AllLabels\"},{\"attributes\":{\"fill_alpha\":0.5,\"fill_color\":\"#30a2da\",\"hatch_color\":\"#30a2da\",\"x\":{\"field\":\"x\"},\"y\":{\"field\":\"y\"}},\"id\":\"1574\",\"type\":\"Patch\"},{\"attributes\":{\"callback\":null,\"renderers\":[{\"id\":\"1577\"}],\"tags\":[\"hv_created\"],\"tooltips\":[[\"WSR0\",\"@{WSR0}\"],[\"Density\",\"@{WSR0_density}\"]]},\"id\":\"1540\",\"type\":\"HoverTool\"},{\"attributes\":{\"client_comm_id\":\"4df865905f974c9a975fcbf6224ca35f\",\"comm_id\":\"ebd6405baa0d4f8781032844491afa43\",\"plot_id\":\"1535\"},\"id\":\"1626\",\"type\":\"panel.models.comm_manager.CommManager\"},{\"attributes\":{\"fill_alpha\":0.5,\"fill_color\":\"#30a2da\",\"hatch_alpha\":0.1,\"hatch_color\":\"#30a2da\",\"line_alpha\":1,\"x\":{\"field\":\"x\"},\"y\":{\"field\":\"y\"}},\"id\":\"1575\",\"type\":\"Patch\"},{\"attributes\":{\"data\":{\"x\":{\"__ndarray__\":\"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\",\"dtype\":\"float64\",\"order\":\"little\",\"shape\":[200]},\"y\":{\"__ndarray__\":\"AAAAAAAAAAAAAAAAAAAAAAAAAAAAAAAAAAAAAAAAAAAAAAAAAAAAAAAAAAAAAAAAAAAAAAAAAAAAAAAAAAAAAAAAAAAAAAAAAAAAAAAAAAAAAAAAAAAAAAAAAAAAAAAAAAAAAAAAAAAAAAAAAAAAAAAAAAAAAAAAAAAAAAAAAAAAAAAAAAAAAAAAAAAAAAAAAAAAAAAAAAAAAAAAAAAAAAAAAAAAAAAAAAAAAAAAAAAAAAAAAAAAAAAAAAAAAAAAAAAAAAAAAAAAAAAAAAAAAAAAAAAAAAAAAAAAAAAAAAAAAAAAAAAAAAAAAAAAAAAAAAAAAAAAAAAAAAAAAAAAAAAAAAAAAAAAAAAAAAAAAAAAAAAAAAAAAAAAAAAAAAAAAAAAAAAAAAAAAAAAAAAAAAAAAAAAAAAAAAAAAAAAAAAAAAAAAAAAAAAAAAAAAAAAAAAAAAAAAAAAAAAAAAAAAAAAAAAAAAAAAAAAAAAAAAAAAAAAAAAAAAAAAAAAAAAAAAAAAAAAAAAAAAAAAAAAAAAAAAAAAAAAAAAAAAAAAAAAAAAAAAAAAAAAAAAAAAAAAAAAAAAAAAAAAAAAAAAAAAAAAAAAAAAAAAAAAAAAAAAAAAAAAAAAAAAAAAAAAAAAAAAAAAAAAAAAAAAAAAAAAAAAAAAAAAAAAAAAAAAAAAAAAAAAAAAAAAAAAAAAAAAAAAAAAAAAAAAAAAAAAAAAAAAAAAAAAAAAAAAAAAAAAAAAAAAAAAAAAAAAAAAAAAAAAAAAAAAAAAAAAAAAAAAAAAAAAAAAAAAAAAAAAAAAAAAAAAAAAAAAAAAAAAAAAAAAAAAAAAAAAAAAAAAAAAAAAAAAAAAAAAAAAAAAAAAAAAAAAAAAAAAAAAAAAAAAAAAAAAAAAAAAAAAAAAAAAAAAAAAAAAAAAAAAAAAAAAAAAAAAAAAAAAAAAAAAAAAAAAAAAAAAAAAAAAAAAAAAAAAAAAAAAAAAAAAAAAAAAAAAAAAAAAAAAAAAAAAAAAAAAAAAAAAAAAAAAAAAAAAAAAAAAAAAAAAAAAAAAAAAAAAAAAAiwfCSjGrdPnT6xwgdjPQ+/8ldza8iCT/+Vb0oVe4aP6BDCHVVSSk/cvixTHnVND9B4meBnjg+PwhNAuf4cEM/7qpgfvaRRj9UAb5Sa4BIP52XtUR1Z0o/1YO4a4EYTj/2hDQw8nBSPy/Kid0LRlc/Rg3UN7aoXD9nm1LjpL5gPxivpuYYnGI/vJPpcPUuZD8UNTvKSjZmP1B4UsvtoWk/eurzfIcwbz8ijP2WwJJzP8gXjZz6mXg/tJjEnWVQfj9deqeqqx+CPwayOyq39YQ/g6HKNblqhz8TvFk13jyJP4Q+9dxWN4o/T3ES4NBUij/PrTRvVd+JPzFOaxYwa4k/YtD4KHaeiT9E6iKliN+KP6hE0a0cH40/fj3l2ovljz/NLcGnfVCRP0I24cfDhJI/z3GerWOxkz+J3z6l0DmVP+SKeiLvmZc/Q42w2YYrmz9X5XnaQ/mfPziabxbZ3KI/tyNrUan7pT+HfJLaiCapPzNpyICeRqw/BRIGSo1crz9IG09iDTaxP/I4Yr4vtrI/R6O3LKIktD9EJIhePXi1Py5aiTPnrbY/48S9jLfItz/2bRf8XM64P2AdYWSbw7k/fgXeClmtuj+1rEHP7Je7P/4wxuzAnrw/gtJ2RXfovT8LweoXQ5K/P8QJsx1sy8A/FGPSYGLkwT/gd4Q4HPfCP0oZnHvy+cM/OktyXVEOxT9LwfRjb4vGP5Y14qjz88g/dL4UeIvMzD/fM7vz8CbRP4tdtEOwhdQ/rDtEb7Tp1z+dGfh6UYXaP1FpO7Nxt9s/N2wefali2z/qw8vp+ffZP94xpA5/Ltg/wY7LpXCi1j8BHSKlhp3VP1BQDYEtHNU/zkF9nBv11D+semIZ1//UPw0oy8wbJ9U/SKZAInlk1T9GbDubG6zVPwu2apNs19U/U5K+YX+g1T9a4v/MW7fUP+3PCpXG59I/EWb1Ruo40D/rq+0liObJP+2IaKMTEsM/SKHujjS3uT/yoi4+4I2vP2kcXpsmhaE/ECl4eSaGkT/HVm2kgXJ/Py86RKm4OWk/70mtVcoJUj+NGGGbbPE2Pw==\",\"dtype\":\"float64\",\"order\":\"little\",\"shape\":[200]}},\"selected\":{\"id\":\"1572\"},\"selection_policy\":{\"id\":\"1593\"}},\"id\":\"1571\",\"type\":\"ColumnDataSource\"},{\"attributes\":{\"margin\":[5,10,5,10],\"options\":[\"WSR0\",\"WSR1\",\"WSR2\",\"WSR3\",\"WSR4\",\"WSR5\",\"WSR6\",\"WSR7\",\"WSR8\",\"WSR9\",\"WSR10\",\"WSR11\",\"WSR12\",\"WSR13\",\"WSR14\",\"WSR15\",\"WSR16\",\"WSR17\",\"WSR18\",\"WSR19\",\"WSR20\",\"WSR21\",\"WSR22\",\"WSR23\",\"WSR_PK\",\"WSR_AV\",\"T0\",\"T1\",\"T2\",\"T3\",\"T4\",\"T5\",\"T6\",\"T7\",\"T8\",\"T9\",\"T10\",\"T11\",\"T12\",\"T13\",\"T14\",\"T15\",\"T16\",\"T17\",\"T18\",\"T19\",\"T20\",\"T21\",\"T22\",\"T23\",\"T_PK\",\"T_AV\",\"T85\",\"RH85\",\"U85\",\"V85\",\"HT85\",\"T70\",\"RH70\",\"U70\",\"V70\",\"HT70\",\"T50\",\"RH50\",\"U50\",\"V50\",\"HT50\",\"KI\",\"TT\",\"SLP\",\"SLP_\",\"Precp\"],\"size\":10,\"title\":\"y\",\"value\":\"WSR0\"},\"id\":\"1536\",\"type\":\"panel.models.widgets.SingleSelect\"},{\"attributes\":{\"children\":[{\"id\":\"1536\"},{\"id\":\"1537\"}],\"margin\":[0,0,0,0],\"name\":\"Row01367\"},\"id\":\"1535\",\"type\":\"Row\"},{\"attributes\":{\"children\":[{\"id\":\"1541\"}],\"margin\":[0,0,0,0],\"name\":\"Row01190\"},\"id\":\"1537\",\"type\":\"Row\"},{\"attributes\":{\"tools\":[{\"id\":\"1540\"},{\"id\":\"1558\"},{\"id\":\"1559\"},{\"id\":\"1560\"},{\"id\":\"1561\"},{\"id\":\"1562\"}]},\"id\":\"1564\",\"type\":\"Toolbar\"},{\"attributes\":{\"end\":8.247592963028913,\"reset_end\":8.247592963028913,\"reset_start\":-0.7475929630289133,\"start\":-0.7475929630289133,\"tags\":[[[\"WSR0\",\"WSR0\",null]]]},\"id\":\"1538\",\"type\":\"Range1d\"},{\"attributes\":{},\"id\":\"1593\",\"type\":\"UnionRenderers\"},{\"attributes\":{\"fill_alpha\":0.5,\"fill_color\":\"#30a2da\",\"hatch_color\":\"#30a2da\",\"x\":{\"field\":\"x\"},\"y\":{\"field\":\"y\"}},\"id\":\"1579\",\"type\":\"Patch\"},{\"attributes\":{},\"id\":\"1585\",\"type\":\"AllLabels\"},{\"attributes\":{\"coordinates\":null,\"group\":null,\"text_color\":\"black\",\"text_font_size\":\"12pt\"},\"id\":\"1542\",\"type\":\"Title\"},{\"attributes\":{\"axis_label\":\"WSR0\",\"coordinates\":null,\"formatter\":{\"id\":\"1581\"},\"group\":null,\"major_label_policy\":{\"id\":\"1582\"},\"ticker\":{\"id\":\"1551\"}},\"id\":\"1550\",\"type\":\"LinearAxis\"},{\"attributes\":{},\"id\":\"1548\",\"type\":\"LinearScale\"},{\"attributes\":{\"coordinates\":null,\"data_source\":{\"id\":\"1571\"},\"glyph\":{\"id\":\"1574\"},\"group\":null,\"hover_glyph\":null,\"muted_glyph\":{\"id\":\"1576\"},\"nonselection_glyph\":{\"id\":\"1575\"},\"selection_glyph\":{\"id\":\"1579\"},\"view\":{\"id\":\"1578\"}},\"id\":\"1577\",\"type\":\"GlyphRenderer\"},{\"attributes\":{\"axis\":{\"id\":\"1550\"},\"coordinates\":null,\"grid_line_color\":null,\"group\":null,\"ticker\":null},\"id\":\"1553\",\"type\":\"Grid\"},{\"attributes\":{\"fill_alpha\":0.2,\"fill_color\":\"#30a2da\",\"hatch_alpha\":0.2,\"hatch_color\":\"#30a2da\",\"line_alpha\":0.2,\"x\":{\"field\":\"x\"},\"y\":{\"field\":\"y\"}},\"id\":\"1576\",\"type\":\"Patch\"},{\"attributes\":{\"source\":{\"id\":\"1571\"}},\"id\":\"1578\",\"type\":\"CDSView\"},{\"attributes\":{},\"id\":\"1559\",\"type\":\"PanTool\"},{\"attributes\":{\"axis_label\":\"Density\",\"coordinates\":null,\"formatter\":{\"id\":\"1584\"},\"group\":null,\"major_label_policy\":{\"id\":\"1585\"},\"ticker\":{\"id\":\"1555\"}},\"id\":\"1554\",\"type\":\"LinearAxis\"},{\"attributes\":{\"axis\":{\"id\":\"1554\"},\"coordinates\":null,\"dimension\":1,\"grid_line_color\":null,\"group\":null,\"ticker\":null},\"id\":\"1557\",\"type\":\"Grid\"},{\"attributes\":{},\"id\":\"1558\",\"type\":\"SaveTool\"},{\"attributes\":{},\"id\":\"1555\",\"type\":\"BasicTicker\"},{\"attributes\":{},\"id\":\"1572\",\"type\":\"Selection\"},{\"attributes\":{},\"id\":\"1551\",\"type\":\"BasicTicker\"},{\"attributes\":{},\"id\":\"1560\",\"type\":\"WheelZoomTool\"},{\"attributes\":{},\"id\":\"1584\",\"type\":\"BasicTickFormatter\"},{\"attributes\":{\"end\":0.4763779946606342,\"reset_end\":0.4763779946606342,\"reset_start\":0.0,\"tags\":[[[\"WSR0_density\",\"Density\",null]]]},\"id\":\"1539\",\"type\":\"Range1d\"}],\"root_ids\":[\"1535\",\"1626\"]},\"title\":\"Bokeh Application\",\"version\":\"2.4.1\"}};\n",
       "    var render_items = [{\"docid\":\"f2e87de2-8d17-4504-b6e9-2d20406bfe5c\",\"root_ids\":[\"1535\"],\"roots\":{\"1535\":\"0b467642-8486-4b77-9275-16b2a1844c90\"}}];\n",
       "    root.Bokeh.embed.embed_items_notebook(docs_json, render_items);\n",
       "  }\n",
       "  if (root.Bokeh !== undefined && root.Bokeh.Panel !== undefined) {\n",
       "    embed_document(root);\n",
       "  } else {\n",
       "    var attempts = 0;\n",
       "    var timer = setInterval(function(root) {\n",
       "      if (root.Bokeh !== undefined && root.Bokeh.Panel !== undefined) {\n",
       "        clearInterval(timer);\n",
       "        embed_document(root);\n",
       "      } else if (document.readyState == \"complete\") {\n",
       "        attempts++;\n",
       "        if (attempts > 200) {\n",
       "          clearInterval(timer);\n",
       "          console.log(\"Bokeh: ERROR: Unable to run BokehJS code because BokehJS library is missing\");\n",
       "        }\n",
       "      }\n",
       "    }, 25, root)\n",
       "  }\n",
       "})(window);</script>"
      ]
     },
     "execution_count": 16,
     "metadata": {
      "application/vnd.holoviews_exec.v0+json": {
       "id": "1535"
      }
     },
     "output_type": "execute_result"
    }
   ],
   "source": [
    "plot = data.hvplot(x='Date',y=y,kind='kde')\n",
    "\n",
    "pn.Row(y,plot)"
   ]
  },
  {
   "cell_type": "code",
   "execution_count": 17,
   "id": "23474d9f",
   "metadata": {},
   "outputs": [
    {
     "data": {
      "text/html": [
       "<pre style=\"white-space:pre;overflow-x:auto;line-height:normal;font-family:Menlo,'DejaVu Sans Mono',consolas,'Courier New',monospace\"><span style=\"color: #7fbfbf; text-decoration-color: #7fbfbf\">[08/02/22 19:30:23] </span><span style=\"color: #800000; text-decoration-color: #800000\">WARNING </span> C:\\Users\\User\\anaconda3\\lib\\site-packages\\panel\\pane\\base.py:<span style=\"color: #008080; text-decoration-color: #008080; font-weight: bold\">38</span>:       <a href=\"file://C:\\Users\\User\\anaconda3\\lib\\warnings.py\" target=\"_blank\"><span style=\"color: #7f7f7f; text-decoration-color: #7f7f7f\">warnings.py</span></a><span style=\"color: #7f7f7f; text-decoration-color: #7f7f7f\">:</span><a href=\"file://C:\\Users\\User\\anaconda3\\lib\\warnings.py#109\" target=\"_blank\"><span style=\"color: #7f7f7f; text-decoration-color: #7f7f7f\">109</span></a>\n",
       "<span style=\"color: #7fbfbf; text-decoration-color: #7fbfbf\">                    </span>         DeprecationWarning: <span style=\"color: #800080; text-decoration-color: #800080; font-weight: bold\">panel.Pane</span><span style=\"font-weight: bold\">(</span><span style=\"color: #808000; text-decoration-color: #808000\">...</span><span style=\"font-weight: bold\">)</span> is deprecated, use                 <span style=\"color: #7f7f7f; text-decoration-color: #7f7f7f\">               </span>\n",
       "<span style=\"color: #7fbfbf; text-decoration-color: #7fbfbf\">                    </span>         <span style=\"color: #800080; text-decoration-color: #800080; font-weight: bold\">panel.panel</span><span style=\"font-weight: bold\">(</span><span style=\"color: #808000; text-decoration-color: #808000\">...</span><span style=\"font-weight: bold\">)</span> instead.                                              <span style=\"color: #7f7f7f; text-decoration-color: #7f7f7f\">               </span>\n",
       "<span style=\"color: #7fbfbf; text-decoration-color: #7fbfbf\">                    </span>           <span style=\"color: #800080; text-decoration-color: #800080; font-weight: bold\">warnings.warn</span><span style=\"font-weight: bold\">(</span>                                                       <span style=\"color: #7f7f7f; text-decoration-color: #7f7f7f\">               </span>\n",
       "<span style=\"color: #7fbfbf; text-decoration-color: #7fbfbf\">                    </span>                                                                                <span style=\"color: #7f7f7f; text-decoration-color: #7f7f7f\">               </span>\n",
       "</pre>\n"
      ],
      "text/plain": [
       "\u001b[2;36m[08/02/22 19:30:23]\u001b[0m\u001b[2;36m \u001b[0m\u001b[31mWARNING \u001b[0m C:\\Users\\User\\anaconda3\\lib\\site-packages\\panel\\pane\\base.py:\u001b[1;36m38\u001b[0m:       \u001b]8;id=780419;file://C:\\Users\\User\\anaconda3\\lib\\warnings.py\u001b\\\u001b[2mwarnings.py\u001b[0m\u001b]8;;\u001b\\\u001b[2m:\u001b[0m\u001b]8;id=264207;file://C:\\Users\\User\\anaconda3\\lib\\warnings.py#109\u001b\\\u001b[2m109\u001b[0m\u001b]8;;\u001b\\\n",
       "\u001b[2;36m                    \u001b[0m         DeprecationWarning: \u001b[1;35mpanel.Pane\u001b[0m\u001b[1m(\u001b[0m\u001b[33m...\u001b[0m\u001b[1m)\u001b[0m is deprecated, use                 \u001b[2m               \u001b[0m\n",
       "\u001b[2;36m                    \u001b[0m         \u001b[1;35mpanel.panel\u001b[0m\u001b[1m(\u001b[0m\u001b[33m...\u001b[0m\u001b[1m)\u001b[0m instead.                                              \u001b[2m               \u001b[0m\n",
       "\u001b[2;36m                    \u001b[0m           \u001b[1;35mwarnings.warn\u001b[0m\u001b[1m(\u001b[0m                                                       \u001b[2m               \u001b[0m\n",
       "\u001b[2;36m                    \u001b[0m                                                                                \u001b[2m               \u001b[0m\n"
      ]
     },
     "metadata": {},
     "output_type": "display_data"
    },
    {
     "data": {},
     "metadata": {},
     "output_type": "display_data"
    },
    {
     "data": {},
     "metadata": {},
     "output_type": "display_data"
    },
    {
     "data": {},
     "metadata": {},
     "output_type": "display_data"
    },
    {
     "data": {},
     "metadata": {},
     "output_type": "display_data"
    },
    {
     "data": {
      "application/vnd.holoviews_exec.v0+json": "",
      "text/html": [
       "<div id='1819'>\n",
       "\n",
       "\n",
       "\n",
       "\n",
       "\n",
       "  <div class=\"bk-root\" id=\"4aab4ccf-1a75-4797-8a17-63c446b732b2\" data-root-id=\"1819\"></div>\n",
       "</div>\n",
       "<script type=\"application/javascript\">(function(root) {\n",
       "  function embed_document(root) {\n",
       "    var docs_json = {\"7a97a632-e148-429a-b740-85480e58aee3\":{\"defs\":[{\"extends\":null,\"module\":null,\"name\":\"ReactiveHTML1\",\"overrides\":[],\"properties\":[]},{\"extends\":null,\"module\":null,\"name\":\"FlexBox1\",\"overrides\":[],\"properties\":[{\"default\":\"flex-start\",\"kind\":null,\"name\":\"align_content\"},{\"default\":\"flex-start\",\"kind\":null,\"name\":\"align_items\"},{\"default\":\"row\",\"kind\":null,\"name\":\"flex_direction\"},{\"default\":\"wrap\",\"kind\":null,\"name\":\"flex_wrap\"},{\"default\":\"flex-start\",\"kind\":null,\"name\":\"justify_content\"}]},{\"extends\":null,\"module\":null,\"name\":\"GridStack1\",\"overrides\":[],\"properties\":[{\"default\":\"warn\",\"kind\":null,\"name\":\"mode\"},{\"default\":null,\"kind\":null,\"name\":\"ncols\"},{\"default\":null,\"kind\":null,\"name\":\"nrows\"},{\"default\":true,\"kind\":null,\"name\":\"allow_resize\"},{\"default\":true,\"kind\":null,\"name\":\"allow_drag\"},{\"default\":[],\"kind\":null,\"name\":\"state\"}]},{\"extends\":null,\"module\":null,\"name\":\"click1\",\"overrides\":[],\"properties\":[{\"default\":\"\",\"kind\":null,\"name\":\"terminal_output\"},{\"default\":\"\",\"kind\":null,\"name\":\"debug_name\"},{\"default\":0,\"kind\":null,\"name\":\"clears\"}]},{\"extends\":null,\"module\":null,\"name\":\"NotificationAreaBase1\",\"overrides\":[],\"properties\":[{\"default\":\"bottom-right\",\"kind\":null,\"name\":\"position\"},{\"default\":0,\"kind\":null,\"name\":\"_clear\"}]},{\"extends\":null,\"module\":null,\"name\":\"NotificationArea1\",\"overrides\":[],\"properties\":[{\"default\":[],\"kind\":null,\"name\":\"notifications\"},{\"default\":\"bottom-right\",\"kind\":null,\"name\":\"position\"},{\"default\":0,\"kind\":null,\"name\":\"_clear\"},{\"default\":[{\"background\":\"#ffc107\",\"icon\":{\"className\":\"fas fa-exclamation-triangle\",\"color\":\"white\",\"tagName\":\"i\"},\"type\":\"warning\"},{\"background\":\"#007bff\",\"icon\":{\"className\":\"fas fa-info-circle\",\"color\":\"white\",\"tagName\":\"i\"},\"type\":\"info\"}],\"kind\":null,\"name\":\"types\"}]},{\"extends\":null,\"module\":null,\"name\":\"Notification\",\"overrides\":[],\"properties\":[{\"default\":null,\"kind\":null,\"name\":\"background\"},{\"default\":3000,\"kind\":null,\"name\":\"duration\"},{\"default\":null,\"kind\":null,\"name\":\"icon\"},{\"default\":\"\",\"kind\":null,\"name\":\"message\"},{\"default\":null,\"kind\":null,\"name\":\"notification_type\"},{\"default\":false,\"kind\":null,\"name\":\"_destroyed\"}]},{\"extends\":null,\"module\":null,\"name\":\"TemplateActions1\",\"overrides\":[],\"properties\":[{\"default\":0,\"kind\":null,\"name\":\"open_modal\"},{\"default\":0,\"kind\":null,\"name\":\"close_modal\"}]},{\"extends\":null,\"module\":null,\"name\":\"MaterialTemplateActions1\",\"overrides\":[],\"properties\":[{\"default\":0,\"kind\":null,\"name\":\"open_modal\"},{\"default\":0,\"kind\":null,\"name\":\"close_modal\"}]}],\"roots\":{\"references\":[{\"attributes\":{\"axis\":{\"id\":\"1836\"},\"coordinates\":null,\"grid_line_color\":null,\"group\":null,\"ticker\":null},\"id\":\"1839\",\"type\":\"Grid\"},{\"attributes\":{},\"id\":\"1871\",\"type\":\"AllLabels\"},{\"attributes\":{\"fill_alpha\":0.5,\"fill_color\":\"#30a2da\",\"hatch_alpha\":0.1,\"hatch_color\":\"#30a2da\",\"line_alpha\":1,\"x\":{\"field\":\"x\"},\"y\":{\"field\":\"y\"}},\"id\":\"1861\",\"type\":\"Patch\"},{\"attributes\":{},\"id\":\"1845\",\"type\":\"PanTool\"},{\"attributes\":{\"margin\":[5,10,5,10],\"options\":[\"None\",\"class\"],\"title\":\"by\"},\"id\":\"1822\",\"type\":\"panel.models.widgets.CustomSelect\"},{\"attributes\":{\"axis_label\":\"Density\",\"coordinates\":null,\"formatter\":{\"id\":\"1870\"},\"group\":null,\"major_label_policy\":{\"id\":\"1871\"},\"ticker\":{\"id\":\"1841\"}},\"id\":\"1840\",\"type\":\"LinearAxis\"},{\"attributes\":{\"data\":{\"x\":{\"__ndarray__\":\"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\",\"dtype\":\"float64\",\"order\":\"little\",\"shape\":[200]},\"y\":{\"__ndarray__\":\"AAAAAAAAAAAAAAAAAAAAAAAAAAAAAAAAAAAAAAAAAAAAAAAAAAAAAAAAAAAAAAAAAAAAAAAAAAAAAAAAAAAAAAAAAAAAAAAAAAAAAAAAAAAAAAAAAAAAAAAAAAAAAAAAAAAAAAAAAAAAAAAAAAAAAAAAAAAAAAAAAAAAAAAAAAAAAAAAAAAAAAAAAAAAAAAAAAAAAAAAAAAAAAAAAAAAAAAAAAAAAAAAAAAAAAAAAAAAAAAAAAAAAAAAAAAAAAAAAAAAAAAAAAAAAAAAAAAAAAAAAAAAAAAAAAAAAAAAAAAAAAAAAAAAAAAAAAAAAAAAAAAAAAAAAAAAAAAAAAAAAAAAAAAAAAAAAAAAAAAAAAAAAAAAAAAAAAAAAAAAAAAAAAAAAAAAAAAAAAAAAAAAAAAAAAAAAAAAAAAAAAAAAAAAAAAAAAAAAAAAAAAAAAAAAAAAAAAAAAAAAAAAAAAAAAAAAAAAAAAAAAAAAAAAAAAAAAAAAAAAAAAAAAAAAAAAAAAAAAAAAAAAAAAAAAAAAAAAAAAAAAAAAAAAAAAAAAAAAAAAAAAAAAAAAAAAAAAAAAAAAAAAAAAAAAAAAAAAAAAAAAAAAAAAAAAAAAAAAAAAAAAAAAAAAAAAAAAAAAAAAAAAAAAAAAAAAAAAAAAAAAAAAAAAAAAAAAAAAAAAAAAAAAAAAAAAAAAAAAAAAAAAAAAAAAAAAAAAAAAAAAAAAAAAAAAAAAAAAAAAAAAAAAAAAAAAAAAAAAAAAAAAAAAAAAAAAAAAAAAAAAAAAAAAAAAAAAAAAAAAAAAAAAAAAAAAAAAAAAAAAAAAAAAAAAAAAAAAAAAAAAAAAAAAAAAAAAAAAAAAAAAAAAAAAAAAAAAAAAAAAAAAAAAAAAAAAAAAAAAAAAAAAAAAAAAAAAAAAAAAAAAAAAAAAAAAAAAAAAAAAAAAAAAAAAAAAAAAAAAAAAAAAAAAAAAAAAAAAAAAAAAAAAAAAAAAAAAAAAAAAAAAAAAAAAAAAAAAAAAAAAAAAAAAAAAAAAAAAAAAAAAAAAAAAAAAAAAAAAAAAAAAAAAiwfCSjGrdPnT6xwgdjPQ+/8ldza8iCT/+Vb0oVe4aP6BDCHVVSSk/cvixTHnVND9B4meBnjg+PwhNAuf4cEM/7qpgfvaRRj9UAb5Sa4BIP52XtUR1Z0o/1YO4a4EYTj/2hDQw8nBSPy/Kid0LRlc/Rg3UN7aoXD9nm1LjpL5gPxivpuYYnGI/vJPpcPUuZD8UNTvKSjZmP1B4UsvtoWk/eurzfIcwbz8ijP2WwJJzP8gXjZz6mXg/tJjEnWVQfj9deqeqqx+CPwayOyq39YQ/g6HKNblqhz8TvFk13jyJP4Q+9dxWN4o/T3ES4NBUij/PrTRvVd+JPzFOaxYwa4k/YtD4KHaeiT9E6iKliN+KP6hE0a0cH40/fj3l2ovljz/NLcGnfVCRP0I24cfDhJI/z3GerWOxkz+J3z6l0DmVP+SKeiLvmZc/Q42w2YYrmz9X5XnaQ/mfPziabxbZ3KI/tyNrUan7pT+HfJLaiCapPzNpyICeRqw/BRIGSo1crz9IG09iDTaxP/I4Yr4vtrI/R6O3LKIktD9EJIhePXi1Py5aiTPnrbY/48S9jLfItz/2bRf8XM64P2AdYWSbw7k/fgXeClmtuj+1rEHP7Je7P/4wxuzAnrw/gtJ2RXfovT8LweoXQ5K/P8QJsx1sy8A/FGPSYGLkwT/gd4Q4HPfCP0oZnHvy+cM/OktyXVEOxT9LwfRjb4vGP5Y14qjz88g/dL4UeIvMzD/fM7vz8CbRP4tdtEOwhdQ/rDtEb7Tp1z+dGfh6UYXaP1FpO7Nxt9s/N2wefali2z/qw8vp+ffZP94xpA5/Ltg/wY7LpXCi1j8BHSKlhp3VP1BQDYEtHNU/zkF9nBv11D+semIZ1//UPw0oy8wbJ9U/SKZAInlk1T9GbDubG6zVPwu2apNs19U/U5K+YX+g1T9a4v/MW7fUP+3PCpXG59I/EWb1Ruo40D/rq+0liObJP+2IaKMTEsM/SKHujjS3uT/yoi4+4I2vP2kcXpsmhaE/ECl4eSaGkT/HVm2kgXJ/Py86RKm4OWk/70mtVcoJUj+NGGGbbPE2Pw==\",\"dtype\":\"float64\",\"order\":\"little\",\"shape\":[200]}},\"selected\":{\"id\":\"1858\"},\"selection_policy\":{\"id\":\"1879\"}},\"id\":\"1857\",\"type\":\"ColumnDataSource\"},{\"attributes\":{\"axis\":{\"id\":\"1840\"},\"coordinates\":null,\"dimension\":1,\"grid_line_color\":null,\"group\":null,\"ticker\":null},\"id\":\"1843\",\"type\":\"Grid\"},{\"attributes\":{},\"id\":\"1841\",\"type\":\"BasicTicker\"},{\"attributes\":{},\"id\":\"1846\",\"type\":\"WheelZoomTool\"},{\"attributes\":{},\"id\":\"1879\",\"type\":\"UnionRenderers\"},{\"attributes\":{\"children\":[{\"id\":\"1827\"}],\"margin\":[0,0,0,0],\"name\":\"Row01485\"},\"id\":\"1823\",\"type\":\"Row\"},{\"attributes\":{},\"id\":\"1867\",\"type\":\"BasicTickFormatter\"},{\"attributes\":{},\"id\":\"1844\",\"type\":\"SaveTool\"},{\"attributes\":{\"fill_alpha\":0.5,\"fill_color\":\"#30a2da\",\"hatch_color\":\"#30a2da\",\"x\":{\"field\":\"x\"},\"y\":{\"field\":\"y\"}},\"id\":\"1860\",\"type\":\"Patch\"},{\"attributes\":{\"tools\":[{\"id\":\"1826\"},{\"id\":\"1844\"},{\"id\":\"1845\"},{\"id\":\"1846\"},{\"id\":\"1847\"},{\"id\":\"1848\"}]},\"id\":\"1850\",\"type\":\"Toolbar\"},{\"attributes\":{\"overlay\":{\"id\":\"1849\"}},\"id\":\"1847\",\"type\":\"BoxZoomTool\"},{\"attributes\":{},\"id\":\"1848\",\"type\":\"ResetTool\"},{\"attributes\":{\"bottom_units\":\"screen\",\"coordinates\":null,\"fill_alpha\":0.5,\"fill_color\":\"lightgrey\",\"group\":null,\"left_units\":\"screen\",\"level\":\"overlay\",\"line_alpha\":1.0,\"line_color\":\"black\",\"line_dash\":[4,4],\"line_width\":2,\"right_units\":\"screen\",\"syncable\":false,\"top_units\":\"screen\"},\"id\":\"1849\",\"type\":\"BoxAnnotation\"},{\"attributes\":{\"fill_alpha\":0.5,\"fill_color\":\"#30a2da\",\"hatch_color\":\"#30a2da\",\"x\":{\"field\":\"x\"},\"y\":{\"field\":\"y\"}},\"id\":\"1865\",\"type\":\"Patch\"},{\"attributes\":{\"end\":8.247592963028913,\"reset_end\":8.247592963028913,\"reset_start\":-0.7475929630289133,\"start\":-0.7475929630289133,\"tags\":[[[\"WSR0\",\"WSR0\",null]]]},\"id\":\"1824\",\"type\":\"Range1d\"},{\"attributes\":{\"margin\":[5,10,5,10],\"options\":[\"WSR0\",\"WSR1\",\"WSR2\",\"WSR3\",\"WSR4\",\"WSR5\",\"WSR6\",\"WSR7\",\"WSR8\",\"WSR9\",\"WSR10\",\"WSR11\",\"WSR12\",\"WSR13\",\"WSR14\",\"WSR15\",\"WSR16\",\"WSR17\",\"WSR18\",\"WSR19\",\"WSR20\",\"WSR21\",\"WSR22\",\"WSR23\",\"WSR_PK\",\"WSR_AV\",\"T0\",\"T1\",\"T2\",\"T3\",\"T4\",\"T5\",\"T6\",\"T7\",\"T8\",\"T9\",\"T10\",\"T11\",\"T12\",\"T13\",\"T14\",\"T15\",\"T16\",\"T17\",\"T18\",\"T19\",\"T20\",\"T21\",\"T22\",\"T23\",\"T_PK\",\"T_AV\",\"T85\",\"RH85\",\"U85\",\"V85\",\"HT85\",\"T70\",\"RH70\",\"U70\",\"V70\",\"HT70\",\"T50\",\"RH50\",\"U50\",\"V50\",\"HT50\",\"KI\",\"TT\",\"SLP\",\"SLP_\",\"Precp\"],\"size\":10,\"title\":\"y\",\"value\":\"WSR0\"},\"id\":\"1821\",\"type\":\"panel.models.widgets.SingleSelect\"},{\"attributes\":{\"source\":{\"id\":\"1857\"}},\"id\":\"1864\",\"type\":\"CDSView\"},{\"attributes\":{\"client_comm_id\":\"b6dbc32f65a54d5794c918edfc3673f5\",\"comm_id\":\"e17e39548e5d433ba6b8f0ac3a0511bc\",\"plot_id\":\"1819\"},\"id\":\"1912\",\"type\":\"panel.models.comm_manager.CommManager\"},{\"attributes\":{},\"id\":\"1870\",\"type\":\"BasicTickFormatter\"},{\"attributes\":{\"axis_label\":\"WSR0\",\"coordinates\":null,\"formatter\":{\"id\":\"1867\"},\"group\":null,\"major_label_policy\":{\"id\":\"1868\"},\"ticker\":{\"id\":\"1837\"}},\"id\":\"1836\",\"type\":\"LinearAxis\"},{\"attributes\":{\"children\":[{\"id\":\"1821\"},{\"id\":\"1822\"}],\"margin\":[0,0,0,0],\"name\":\"Column01662\"},\"id\":\"1820\",\"type\":\"Column\"},{\"attributes\":{\"end\":0.4763779946606342,\"reset_end\":0.4763779946606342,\"reset_start\":0.0,\"tags\":[[[\"WSR0_density\",\"Density\",null]]]},\"id\":\"1825\",\"type\":\"Range1d\"},{\"attributes\":{\"fill_alpha\":0.2,\"fill_color\":\"#30a2da\",\"hatch_alpha\":0.2,\"hatch_color\":\"#30a2da\",\"line_alpha\":0.2,\"x\":{\"field\":\"x\"},\"y\":{\"field\":\"y\"}},\"id\":\"1862\",\"type\":\"Patch\"},{\"attributes\":{\"callback\":null,\"renderers\":[{\"id\":\"1863\"}],\"tags\":[\"hv_created\"],\"tooltips\":[[\"WSR0\",\"@{WSR0}\"],[\"Density\",\"@{WSR0_density}\"]]},\"id\":\"1826\",\"type\":\"HoverTool\"},{\"attributes\":{\"children\":[{\"id\":\"1820\"},{\"id\":\"1823\"}],\"margin\":[0,0,0,0],\"name\":\"Row01663\"},\"id\":\"1819\",\"type\":\"Row\"},{\"attributes\":{},\"id\":\"1832\",\"type\":\"LinearScale\"},{\"attributes\":{},\"id\":\"1858\",\"type\":\"Selection\"},{\"attributes\":{},\"id\":\"1868\",\"type\":\"AllLabels\"},{\"attributes\":{\"below\":[{\"id\":\"1836\"}],\"center\":[{\"id\":\"1839\"},{\"id\":\"1843\"}],\"height\":300,\"left\":[{\"id\":\"1840\"}],\"margin\":[5,5,5,5],\"min_border_bottom\":10,\"min_border_left\":10,\"min_border_right\":10,\"min_border_top\":10,\"renderers\":[{\"id\":\"1863\"}],\"sizing_mode\":\"fixed\",\"title\":{\"id\":\"1828\"},\"toolbar\":{\"id\":\"1850\"},\"width\":700,\"x_range\":{\"id\":\"1824\"},\"x_scale\":{\"id\":\"1832\"},\"y_range\":{\"id\":\"1825\"},\"y_scale\":{\"id\":\"1834\"}},\"id\":\"1827\",\"subtype\":\"Figure\",\"type\":\"Plot\"},{\"attributes\":{},\"id\":\"1834\",\"type\":\"LinearScale\"},{\"attributes\":{\"coordinates\":null,\"group\":null,\"text_color\":\"black\",\"text_font_size\":\"12pt\"},\"id\":\"1828\",\"type\":\"Title\"},{\"attributes\":{\"coordinates\":null,\"data_source\":{\"id\":\"1857\"},\"glyph\":{\"id\":\"1860\"},\"group\":null,\"hover_glyph\":null,\"muted_glyph\":{\"id\":\"1862\"},\"nonselection_glyph\":{\"id\":\"1861\"},\"selection_glyph\":{\"id\":\"1865\"},\"view\":{\"id\":\"1864\"}},\"id\":\"1863\",\"type\":\"GlyphRenderer\"},{\"attributes\":{},\"id\":\"1837\",\"type\":\"BasicTicker\"}],\"root_ids\":[\"1819\",\"1912\"]},\"title\":\"Bokeh Application\",\"version\":\"2.4.1\"}};\n",
       "    var render_items = [{\"docid\":\"7a97a632-e148-429a-b740-85480e58aee3\",\"root_ids\":[\"1819\"],\"roots\":{\"1819\":\"4aab4ccf-1a75-4797-8a17-63c446b732b2\"}}];\n",
       "    root.Bokeh.embed.embed_items_notebook(docs_json, render_items);\n",
       "  }\n",
       "  if (root.Bokeh !== undefined && root.Bokeh.Panel !== undefined) {\n",
       "    embed_document(root);\n",
       "  } else {\n",
       "    var attempts = 0;\n",
       "    var timer = setInterval(function(root) {\n",
       "      if (root.Bokeh !== undefined && root.Bokeh.Panel !== undefined) {\n",
       "        clearInterval(timer);\n",
       "        embed_document(root);\n",
       "      } else if (document.readyState == \"complete\") {\n",
       "        attempts++;\n",
       "        if (attempts > 200) {\n",
       "          clearInterval(timer);\n",
       "          console.log(\"Bokeh: ERROR: Unable to run BokehJS code because BokehJS library is missing\");\n",
       "        }\n",
       "      }\n",
       "    }, 25, root)\n",
       "  }\n",
       "})(window);</script>"
      ]
     },
     "execution_count": 17,
     "metadata": {
      "application/vnd.holoviews_exec.v0+json": {
       "id": "1819"
      }
     },
     "output_type": "execute_result"
    }
   ],
   "source": [
    "by = pn.widgets.Select(name='by', options=[None, 'class'])\n",
    "\n",
    "plot = data.hvplot.kde(y=y, by=by)\n",
    "\n",
    "pn.Row(pn.Column(y, by), plot)"
   ]
  },
  {
   "cell_type": "code",
   "execution_count": null,
   "id": "28257794",
   "metadata": {},
   "outputs": [],
   "source": []
  }
 ],
 "metadata": {
  "kernelspec": {
   "display_name": "Python 3 (ipykernel)",
   "language": "python",
   "name": "python3"
  },
  "language_info": {
   "codemirror_mode": {
    "name": "ipython",
    "version": 3
   },
   "file_extension": ".py",
   "mimetype": "text/x-python",
   "name": "python",
   "nbconvert_exporter": "python",
   "pygments_lexer": "ipython3",
   "version": "3.9.7"
  }
 },
 "nbformat": 4,
 "nbformat_minor": 5
}
